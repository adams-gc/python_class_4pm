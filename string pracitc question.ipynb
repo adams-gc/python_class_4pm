{
 "cells": [
  {
   "cell_type": "code",
   "execution_count": 2,
   "id": "208fe19e",
   "metadata": {},
   "outputs": [
    {
     "name": "stdout",
     "output_type": "stream",
     "text": [
      "enter namehj\n",
      "enter ph98\n",
      "hj 98\n",
      "\n"
     ]
    }
   ],
   "source": [
    "s= str()\n",
    "n=1\n",
    "for i in range(n):\n",
    "    name= input('enter name')\n",
    "    ph= input(\"enter ph\")\n",
    "    s=s+name+' '+ph+'\\n'\n",
    "print(s)"
   ]
  },
  {
   "cell_type": "code",
   "execution_count": 7,
   "id": "09a8088d",
   "metadata": {},
   "outputs": [
    {
     "name": "stdout",
     "output_type": "stream",
     "text": [
      "hell dj"
     ]
    }
   ],
   "source": [
    "# range () :generate seq of char\n",
    "#str: is seq of char i.e iterable\n",
    "a='hell dj'\n",
    "for a in a:\n",
    "    print(a, end='')"
   ]
  },
  {
   "cell_type": "code",
   "execution_count": 10,
   "id": "fe3ae030",
   "metadata": {},
   "outputs": [
    {
     "name": "stdout",
     "output_type": "stream",
     "text": [
      "<class 'str'> <class 'str'> <class 'str'>\n"
     ]
    }
   ],
   "source": [
    "a= 'hello '\n",
    "b=\"hi dj\"\n",
    "c=''' hii dj'''\n",
    "# way of writing string\n",
    "print(type(a),type(b),type(c))"
   ]
  },
  {
   "cell_type": "code",
   "execution_count": 20,
   "id": "9f2f60a8",
   "metadata": {
    "scrolled": true
   },
   "outputs": [
    {
     "name": "stdout",
     "output_type": "stream",
     "text": [
      "pythonhi dj\n",
      "pythonpython\n",
      "python"
     ]
    }
   ],
   "source": [
    "c=a+b\n",
    "print(c)# concanitate the stirng\n",
    "print(a*2)# print 2 times of strring\n",
    "a='python'\n",
    "for item in a:# we can als write for _in a:\n",
    "    print(item,end=\"\")\n",
    "   "
   ]
  },
  {
   "cell_type": "code",
   "execution_count": 29,
   "id": "b2597d8b",
   "metadata": {},
   "outputs": [
    {
     "name": "stdout",
     "output_type": "stream",
     "text": [
      "<class 'str'> 9\n"
     ]
    }
   ],
   "source": [
    "\n",
    "#len() function  with type()\n",
    "a= 'dhananjay'\n",
    "l=len(a)\n",
    "print(type(a),l)"
   ]
  },
  {
   "cell_type": "code",
   "execution_count": 7,
   "id": "5f5ad3da",
   "metadata": {
    "scrolled": true
   },
   "outputs": [
    {
     "name": "stdout",
     "output_type": "stream",
     "text": [
      "0 d\n",
      "1 h\n",
      "2 a\n",
      "3 n\n",
      "4 a\n",
      "5 n\n",
      "6 j\n",
      "7 a\n",
      "8 y\n"
     ]
    }
   ],
   "source": [
    "a= 'dhananjay'\n",
    "l=len(a)\n",
    "for item in range(l):\n",
    "    print(item,a[item])\n",
    "    "
   ]
  },
  {
   "cell_type": "code",
   "execution_count": 35,
   "id": "276d1836",
   "metadata": {},
   "outputs": [
    {
     "name": "stdout",
     "output_type": "stream",
     "text": [
      "range(0, 9)\n"
     ]
    }
   ],
   "source": [
    "print(range(l))"
   ]
  },
  {
   "cell_type": "code",
   "execution_count": 37,
   "id": "5ece110b",
   "metadata": {},
   "outputs": [
    {
     "name": "stdout",
     "output_type": "stream",
     "text": [
      "range(0, 9)\n"
     ]
    }
   ],
   "source": [
    "d=range(len(a))\n",
    "print(d)"
   ]
  },
  {
   "cell_type": "code",
   "execution_count": 38,
   "id": "abc7927a",
   "metadata": {},
   "outputs": [
    {
     "data": {
      "text/plain": [
       "9"
      ]
     },
     "execution_count": 38,
     "metadata": {},
     "output_type": "execute_result"
    }
   ],
   "source": [
    "len(a)"
   ]
  },
  {
   "cell_type": "code",
   "execution_count": 10,
   "id": "01233628",
   "metadata": {},
   "outputs": [
    {
     "name": "stdout",
     "output_type": "stream",
     "text": [
      "range(0, 9)\n"
     ]
    }
   ],
   "source": [
    "print(range(len(a)))"
   ]
  },
  {
   "cell_type": "markdown",
   "id": "29abe7eb",
   "metadata": {},
   "source": [
    "# #with using len() we cant used the renge funcetin becouse str obj cannot be interpreted as an integer"
   ]
  },
  {
   "cell_type": "code",
   "execution_count": 56,
   "id": "ad40008f",
   "metadata": {},
   "outputs": [
    {
     "name": "stdout",
     "output_type": "stream",
     "text": [
      "d h\n",
      "y\n",
      "dhana  dhananjay\n",
      "yajnanahd\n"
     ]
    }
   ],
   "source": [
    "#indexing the the stering \n",
    "print(a[0],a[1])\n",
    "print(a[-1])\n",
    "# slicing the the str\n",
    "print(a[0:5],\"\", a[0:9:1])# reverse the string\n",
    "\n",
    "print(a[::-1])"
   ]
  },
  {
   "cell_type": "code",
   "execution_count": 2,
   "id": "6432c6b6",
   "metadata": {},
   "outputs": [
    {
     "name": "stdout",
     "output_type": "stream",
     "text": [
      "enter the named\n",
      "enter the age1\n",
      "enter the add=1\n",
      "hello sir i'm d. i'm from 1. i'm1.\n",
      "DHANANJAY\n"
     ]
    }
   ],
   "source": [
    "# string formatting\n",
    "name=input('enter the name')\n",
    "age=input('enter the age')\n",
    "add=input('enter the add=')\n",
    "info= f\"hello sir i'm {name}. i'm from {add}. i'm{age}.\"\n",
    "print(info)\n"
   ]
  },
  {
   "cell_type": "code",
   "execution_count": 3,
   "id": "fe5cd512",
   "metadata": {},
   "outputs": [
    {
     "name": "stdout",
     "output_type": "stream",
     "text": [
      "DHANANJAY\n",
      "dhananjay\n"
     ]
    }
   ],
   "source": [
    "# lower and uper str function\n",
    "a= 'dhananjay'\n",
    "print(a.upper())\n",
    "print(a.lower())"
   ]
  },
  {
   "cell_type": "code",
   "execution_count": 7,
   "id": "0531862a",
   "metadata": {},
   "outputs": [
    {
     "name": "stdout",
     "output_type": "stream",
     "text": [
      "enter the value for serch=HELLO DHANANAJAY\n",
      "yes\n",
      "1\n"
     ]
    }
   ],
   "source": [
    "# searching str\n",
    "a='hello dhananajay'.lower()\n",
    "serch= input('enter the value for serch=').lower()\n",
    "if serch in a:\n",
    "    print('yes')\n",
    "    print(a.count(serch)) # count() function to count the str \n",
    "else:\n",
    "    print('no')"
   ]
  },
  {
   "cell_type": "code",
   "execution_count": 11,
   "id": "7ea2b137",
   "metadata": {},
   "outputs": [
    {
     "name": "stdout",
     "output_type": "stream",
     "text": [
      "0\n"
     ]
    }
   ],
   "source": [
    "a='dhananjay g.c','g.c'\n",
    "print(a.count(a))"
   ]
  },
  {
   "cell_type": "code",
   "execution_count": 22,
   "id": "0b77c75a",
   "metadata": {},
   "outputs": [
    {
     "name": "stdout",
     "output_type": "stream",
     "text": [
      "dj gc.\n"
     ]
    }
   ],
   "source": [
    "# edit and replace the str by using  replace() function\n",
    "a='dhananjay gc.'\n",
    "b=a.replace('dhananjay','dj')# data .replace('original data','eplace to new data')\n",
    "\n",
    "print(b)"
   ]
  },
  {
   "cell_type": "code",
   "execution_count": 23,
   "id": "4b31abe2",
   "metadata": {},
   "outputs": [
    {
     "data": {
      "text/plain": [
       "['dj', 'gc.']"
      ]
     },
     "execution_count": 23,
     "metadata": {},
     "output_type": "execute_result"
    }
   ],
   "source": [
    "b.split()"
   ]
  },
  {
   "cell_type": "code",
   "execution_count": 26,
   "id": "709d120b",
   "metadata": {
    "scrolled": true
   },
   "outputs": [
    {
     "name": "stdout",
     "output_type": "stream",
     "text": [
      "['python ', ' is ', ' good ', ' language']\n",
      "\n",
      "python  is  good  language\n"
     ]
    }
   ],
   "source": [
    "# “Python + is + an + awesome + language”. Split the given string to get a list and join to get another string “Python is an awesome language” \n",
    "input_str='python + is + good + language'\n",
    "str_list= input_str.split('+')# split function to remove especific char in to str and create list\n",
    "print(str_list,end=\"\")\n",
    "print('\\n')\n",
    "new_str='' .join(str_list)\n",
    "print(new_str)"
   ]
  },
  {
   "cell_type": "code",
   "execution_count": null,
   "id": "7505fdbd",
   "metadata": {},
   "outputs": [],
   "source": [
    "'''given_string = \"Python + is + an + awesome + language\"\n",
    "string_list = [word for word in given_string.split(\"+\") if word.strip()]\n",
    "new_string = \" \".join(string_list)\n",
    "new_string'''\n",
    "\n",
    "strings='hello+dj+welcome+ to +python + class'\n",
    "\n",
    "\n",
    "s_l=[char for char in strings.split('+') if char.strip()] #O/P:['hello', 'dj', 'welcome', ' to ', 'python ', ' class']\n",
    "\n",
    "new_str=[i for i in strings.split('dj') if i.strip()]#O/P;['hello+', '+welcome+ to +python + class']\n",
    "print(new_str)\n",
    "\n",
    "# split() : split the string in to a list where each word in the list item\n",
    "#strip(): strip() function is used to leading character to remove from the split('data')\n",
    "print(s_l)\n",
    "\n",
    "# for join(): join function used to join the character after remove the leading char to generate the new list of str\n",
    "output_str=\" \".join(s_l)\n",
    "output_str"
   ]
  },
  {
   "cell_type": "code",
   "execution_count": null,
   "id": "862c0f61",
   "metadata": {},
   "outputs": [],
   "source": [
    "a = \"Python + is + an + awesome + language\"\n",
    "#b=list(a)# this is not a good wayt to greate list so used .str.split()\n",
    "b=a.split()\n",
    "print(b)\n",
    "\n",
    "c= a.replace('+','')\n",
    "c#o/p; 'Python  is  an  awesome  language'\n",
    "# but\n",
    "'''d=b.replace('+','')\n",
    "print(d)# o/p: 'list' object has no attribute 'replace\n",
    "# this is illigel'''"
   ]
  },
  {
   "cell_type": "code",
   "execution_count": null,
   "id": "82b7f60f",
   "metadata": {
    "scrolled": true
   },
   "outputs": [],
   "source": [
    "\n",
    "\n",
    "# Write a Python program to create a dictionary from a string. Track the count of the letters from the string. \n",
    "#Input = “broadway” \n",
    "#Output = {“b”: 1, “r”: 1, “o”: 1, “a”: 2, “d”: 1, “w”: 1, “y”: 1}\n",
    "# steps\n",
    "#1. str\n",
    "#2. create directory from str\n",
    "#3. trace latter to count latter\n",
    "\n",
    "def count_letters(input_string):\n",
    "    letter_count = {}\n",
    "    for letter in input_string:\n",
    "        if letter in letter_count:\n",
    "            letter_count[letter] += 1\n",
    "        else:\n",
    "            letter_count[letter] = 1\n",
    "    return letter_count\n",
    "\n",
    "input_string = \"broadway\"\n",
    "output_dict = count_letters(input_string)\n",
    "print(output_dict)\n"
   ]
  },
  {
   "cell_type": "code",
   "execution_count": null,
   "id": "4f91381e",
   "metadata": {},
   "outputs": [],
   "source": [
    "# define the function for count number\n",
    "\n",
    "input_string=input('enter the str:')# for user input str\n",
    "def count_later(input_string):\n",
    "    # create the empty string for count string\n",
    "    l_count={}\n",
    "    for latter in input_string:# for loop to iterate the condition\n",
    "        # if condition for count latter\n",
    "        if latter in l_count:\n",
    "            l_count[latter]+=1 # incrementing with counting value\n",
    "        else:\n",
    "            l_count[latter]=1\n",
    "    print(l_count)\n",
    "        # or used this\n",
    "    #return l_count\n",
    "output_dic=count_later(input_string)\n",
    "print(output_dic)\n",
    "        \n"
   ]
  },
  {
   "cell_type": "code",
   "execution_count": 1,
   "id": "978fbf24",
   "metadata": {},
   "outputs": [
    {
     "name": "stdout",
     "output_type": "stream",
     "text": [
      "entr strhello\n",
      "{'e': 1, 'h': 1, 'l': 2, 'o': 1}\n"
     ]
    }
   ],
   "source": [
    "# using directory comprihansion\n",
    "\n",
    "input_string =input('entr str')\n",
    "output_dict = {letter: input_string.count(letter) for letter in set(input_string)}\n",
    "print(output_dict)"
   ]
  },
  {
   "cell_type": "code",
   "execution_count": null,
   "id": "cd8a399a",
   "metadata": {},
   "outputs": [],
   "source": []
  }
 ],
 "metadata": {
  "kernelspec": {
   "display_name": "Python 3 (ipykernel)",
   "language": "python",
   "name": "python3"
  },
  "language_info": {
   "codemirror_mode": {
    "name": "ipython",
    "version": 3
   },
   "file_extension": ".py",
   "mimetype": "text/x-python",
   "name": "python",
   "nbconvert_exporter": "python",
   "pygments_lexer": "ipython3",
   "version": "3.9.13"
  }
 },
 "nbformat": 4,
 "nbformat_minor": 5
}
