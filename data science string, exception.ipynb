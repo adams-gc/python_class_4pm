{
 "cells": [
  {
   "cell_type": "code",
   "execution_count": 4,
   "id": "5174dff5",
   "metadata": {},
   "outputs": [
    {
     "data": {
      "text/plain": [
       "39"
      ]
     },
     "execution_count": 4,
     "metadata": {},
     "output_type": "execute_result"
    }
   ],
   "source": [
    "# string\n",
    "data='data science'\n",
    "double_string='data science'\n",
    "tab_string=r'\\t'\n",
    "len(tab_string)\n",
    "# multiple string\n",
    "m_string=\"\"\"\"this is the fist line.\n",
    "and second line\"\"\"\n",
    "len(m_string)\n"
   ]
  },
  {
   "cell_type": "code",
   "execution_count": 11,
   "id": "e45fcb0c",
   "metadata": {},
   "outputs": [
    {
     "name": "stdout",
     "output_type": "stream",
     "text": [
      "0.0\n"
     ]
    }
   ],
   "source": [
    "# excepiton\n",
    "try:\n",
    "    a= 0/1\n",
    "    print(a)\n",
    "except zeroDivisionerror:\n",
    "    print ('cannt devide')"
   ]
  },
  {
   "cell_type": "code",
   "execution_count": 25,
   "id": "f7140189",
   "metadata": {},
   "outputs": [],
   "source": [
    "# list: list are represent in [sq bracket]\n",
    "int_list=[1,2,3,4,5,]\n",
    "heterogenious_list=['str',0.1,True]\n",
    "list_of_list=[int_list,heterogenious_list,[]]\n",
    "len(int_list)# also write list_len=len(int_list)\n",
    "#sum(int_list)\n"
   ]
  },
  {
   "cell_type": "code",
   "execution_count": 29,
   "id": "3f5e6b65",
   "metadata": {},
   "outputs": [],
   "source": [
    "x= range(10)\n",
    "zero=x[0]\n"
   ]
  },
  {
   "cell_type": "code",
   "execution_count": null,
   "id": "e2d544f8",
   "metadata": {},
   "outputs": [],
   "source": []
  }
 ],
 "metadata": {
  "kernelspec": {
   "display_name": "Python 3 (ipykernel)",
   "language": "python",
   "name": "python3"
  },
  "language_info": {
   "codemirror_mode": {
    "name": "ipython",
    "version": 3
   },
   "file_extension": ".py",
   "mimetype": "text/x-python",
   "name": "python",
   "nbconvert_exporter": "python",
   "pygments_lexer": "ipython3",
   "version": "3.9.13"
  }
 },
 "nbformat": 4,
 "nbformat_minor": 5
}
