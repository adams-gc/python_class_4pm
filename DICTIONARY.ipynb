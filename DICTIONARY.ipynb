{
 "cells": [
  {
   "cell_type": "markdown",
   "id": "8836097e",
   "metadata": {},
   "source": [
    "# dictionary:\n",
    "- support:\n",
    " - indexing\n",
    "  - ordered\n",
    "  - multiple and duplicate value\n",
    "  - mutable data"
   ]
  },
  {
   "cell_type": "code",
   "execution_count": 1,
   "id": "65f10ae4",
   "metadata": {},
   "outputs": [],
   "source": [
    "# used\n",
    "d= dict() #function to create"
   ]
  },
  {
   "cell_type": "code",
   "execution_count": 2,
   "id": "c174bd71",
   "metadata": {},
   "outputs": [],
   "source": [
    "# {<key>:<value>,<key>:<value>,....}# key is like indexing using according to user need"
   ]
  },
  {
   "cell_type": "code",
   "execution_count": 4,
   "id": "f0ebb983",
   "metadata": {},
   "outputs": [
    {
     "name": "stdout",
     "output_type": "stream",
     "text": [
      "<class 'dict'> {'a': 'apple', 'b': 'ball', 'c': 'cat'}\n"
     ]
    }
   ],
   "source": [
    "d={\"a\":'apple','b':'ball','c':'cat'}# ordered data\n",
    "d\n",
    "print(type(d),d)"
   ]
  },
  {
   "cell_type": "code",
   "execution_count": 5,
   "id": "8aa463ec",
   "metadata": {},
   "outputs": [
    {
     "name": "stdout",
     "output_type": "stream",
     "text": [
      "a b c "
     ]
    }
   ],
   "source": [
    "# using for loop\n",
    "for i in d:\n",
    "    print(i,end=\" \")"
   ]
  },
  {
   "cell_type": "code",
   "execution_count": 7,
   "id": "a87158ae",
   "metadata": {},
   "outputs": [
    {
     "name": "stdout",
     "output_type": "stream",
     "text": [
      "apple ball cat "
     ]
    }
   ],
   "source": [
    "#for only values\n",
    "for i in d.values():\n",
    "    print(i,end=' ')\n",
    "    "
   ]
  },
  {
   "cell_type": "code",
   "execution_count": 9,
   "id": "4812c7c7",
   "metadata": {},
   "outputs": [
    {
     "name": "stdout",
     "output_type": "stream",
     "text": [
      "('a', 'apple') ('b', 'ball') ('c', 'cat') "
     ]
    }
   ],
   "source": [
    "# for each item with indexing\n",
    "for i in d.items():\n",
    "    print(i,end=' ')"
   ]
  },
  {
   "cell_type": "code",
   "execution_count": 15,
   "id": "6ffc75b0",
   "metadata": {},
   "outputs": [
    {
     "name": "stdout",
     "output_type": "stream",
     "text": [
      "{'a': 'apple', 'b': 'ball', 'c': 'cat'}\n"
     ]
    }
   ],
   "source": [
    "# i.e mutable data type (change in data type ) we cannt used +,- etc operation\n",
    "d=[['a','apple'],['b','ball'],['c','cat']]\n",
    "print(dict(d))"
   ]
  },
  {
   "cell_type": "markdown",
   "id": "344cb4d9",
   "metadata": {},
   "source": [
    "# this is key orirnted so wo do not used same key like {'a':'fj',\"a\":'pk'} a and a are same ke so that not accept\n"
   ]
  },
  {
   "cell_type": "code",
   "execution_count": 18,
   "id": "ce7cd539",
   "metadata": {
    "scrolled": true
   },
   "outputs": [
    {
     "name": "stdout",
     "output_type": "stream",
     "text": [
      "enter number:2\n",
      "enter the name:dj\n",
      "enter the ph:6363\n",
      "enter the age:23\n",
      "enter the name:pk\n",
      "enter the ph:37373\n",
      "enter the age:22\n",
      "{'dj': (6363, 23), 'pk': (37373, 22)}\n"
     ]
    }
   ],
   "source": [
    "# using user input\n",
    "d={}\n",
    "n=int(input(\"enter number:\"))\n",
    "for i in range(n):\n",
    "    name=input('enter the name:')# i.e key\n",
    "    ph=int(input('enter the ph:'))# i.e variable\n",
    "    age=int(input('enter the age:'))\n",
    "    d[name]=ph  # for making key value data[key value]=< data of user> for also show like this format {'dj': 7373, 'pk': 7373}\n",
    "print(d)    "
   ]
  },
  {
   "cell_type": "code",
   "execution_count": 20,
   "id": "fdf447c0",
   "metadata": {},
   "outputs": [
    {
     "name": "stdout",
     "output_type": "stream",
     "text": [
      "enter number:1\n",
      "enter the name:fj\n",
      "enter the ph:7474\n",
      "enter the age:23\n",
      "{('fj', 23): 7474}\n"
     ]
    }
   ],
   "source": [
    "# using user input\n",
    "d={}\n",
    "n=int(input(\"enter number:\"))\n",
    "for i in range(n):\n",
    "    name=input('enter the name:')# i.e key\n",
    "    ph=int(input('enter the ph:'))# i.e variable\n",
    "    age=int(input('enter the age:'))\n",
    "   # d[name][age]=ph  # not ligle\n",
    "    d[name,age]=ph#{('fj', 23): 7474}\n",
    "print(d)    "
   ]
  },
  {
   "cell_type": "code",
   "execution_count": 23,
   "id": "8271ac94",
   "metadata": {},
   "outputs": [
    {
     "name": "stdout",
     "output_type": "stream",
     "text": [
      "{'dj': [6363, 23], 'pk': [37373, 22]} \n",
      " 6363\n"
     ]
    }
   ],
   "source": [
    "d=   {'dj': [6363, 23], 'pk': [37373, 22]}\n",
    "print(d,'\\n',d['dj'][0])"
   ]
  },
  {
   "cell_type": "code",
   "execution_count": 24,
   "id": "8ef07180",
   "metadata": {},
   "outputs": [],
   "source": [
    "# wap to create above dict format # hw\n"
   ]
  },
  {
   "cell_type": "code",
   "execution_count": 25,
   "id": "67a45200",
   "metadata": {},
   "outputs": [
    {
     "data": {
      "text/plain": [
       "{'ram': 5554321, 'shyam': 765443322}"
      ]
     },
     "execution_count": 25,
     "metadata": {},
     "output_type": "execute_result"
    }
   ],
   "source": [
    "# update\n",
    "d={'ram':1234555,'shyam':765443322}\n",
    "d['ram']=5554321\n",
    "d"
   ]
  },
  {
   "cell_type": "code",
   "execution_count": 28,
   "id": "f0785c4a",
   "metadata": {},
   "outputs": [
    {
     "data": {
      "text/plain": [
       "{'ram': 12345, 'dj': 98765, 'pk': 666666666}"
      ]
     },
     "execution_count": 28,
     "metadata": {},
     "output_type": "execute_result"
    }
   ],
   "source": [
    "# add for new welement same as update\n",
    "d={'ram':12345,'dj':98765}\n",
    "d['pk']=666666666\n",
    "d"
   ]
  },
  {
   "cell_type": "code",
   "execution_count": 3,
   "id": "46cf2a30",
   "metadata": {},
   "outputs": [
    {
     "name": "stdout",
     "output_type": "stream",
     "text": [
      "{'ram': 12345, 'dj': 98765}\n"
     ]
    }
   ],
   "source": [
    "# delett using del()\n",
    "# del pop\n",
    "d={'ram': 12345, 'dj': 98765, 'pk': 666666666}\n",
    "del d['pk']\n",
    "print(d,)"
   ]
  },
  {
   "cell_type": "code",
   "execution_count": 30,
   "id": "83abe2a7",
   "metadata": {},
   "outputs": [
    {
     "data": {
      "text/plain": [
       "{'ram': 12345, 'dj': 98765}"
      ]
     },
     "execution_count": 30,
     "metadata": {},
     "output_type": "execute_result"
    }
   ],
   "source": [
    "# pop \n",
    "d={'ram': 12345, 'dj': 98765, 'pk': 666666666}\n",
    "d.pop('pk')\n",
    "d"
   ]
  },
  {
   "cell_type": "code",
   "execution_count": 31,
   "id": "1aed479b",
   "metadata": {},
   "outputs": [
    {
     "name": "stdout",
     "output_type": "stream",
     "text": [
      "666666666\n"
     ]
    }
   ],
   "source": [
    "# pop ewith eith exxtra data type\n",
    "d={'ram': 12345, 'dj': 98765, 'pk': 666666666}\n",
    "c=d.pop('pk')\n",
    "print(c)"
   ]
  },
  {
   "cell_type": "code",
   "execution_count": 35,
   "id": "10f53a8e",
   "metadata": {},
   "outputs": [
    {
     "name": "stdout",
     "output_type": "stream",
     "text": [
      "enter number:1\n",
      "enter the name:hf\n",
      "enter the ph:63636\n",
      "enter the age:23\n",
      "{('hf', 23): [63636]}\n"
     ]
    }
   ],
   "source": [
    "# QS: list \n",
    "# using user input\n",
    "d={}\n",
    "n=int(input(\"enter number:\"))\n",
    "for i in range(n):\n",
    "    name=input('enter the name:')# i.e key\n",
    "    ph=int(input('enter the ph:'))# i.e variable\n",
    "    age=int(input('enter the age:'))\n",
    "   # d[name][age]=ph  # not ligle\n",
    "    d[name,age]=[ph] #{('hf', 23): [63636]} #using with multiple keys\n",
    "print(d)    "
   ]
  },
  {
   "cell_type": "code",
   "execution_count": 36,
   "id": "07d80d53",
   "metadata": {
    "scrolled": true
   },
   "outputs": [
    {
     "name": "stdout",
     "output_type": "stream",
     "text": [
      "enter number:1\n",
      "enter the name:dj\n",
      "enter the ph:9866336574\n",
      "enter the age:23\n",
      "{'dj': [9866336574, 23]}\n"
     ]
    }
   ],
   "source": [
    "# QS: list \n",
    "# using user input\n",
    "d={}\n",
    "n=int(input(\"enter number:\"))\n",
    "for i in range(n):\n",
    "    name=input('enter the name:')# i.e key\n",
    "    ph=int(input('enter the ph:'))# i.e variable\n",
    "    age=int(input('enter the age:'))\n",
    "   # d[name][age]=ph  # not ligle\n",
    "    d[name]=[ph,age] #{'dj': [9866336574, 23]}\n",
    "print(d)    "
   ]
  },
  {
   "cell_type": "code",
   "execution_count": 6,
   "id": "61b28847",
   "metadata": {},
   "outputs": [],
   "source": [
    "# list inside dictionary ,add delet update ......\n",
    "# o/pa={'name':['ram','shyam','hari'],'ntc':[9866336574,9847901456],'ncell':[980732723,98087676]}\n",
    "#1 create empity dictory\n",
    "#2 for loop for repeatevely store data\n",
    "#3 input the key and value\n",
    "#4 used condition\n"
   ]
  },
  {
   "cell_type": "code",
   "execution_count": 1,
   "id": "3de0cd7b",
   "metadata": {},
   "outputs": [
    {
     "name": "stdout",
     "output_type": "stream",
     "text": [
      "for for loop2\n",
      "enter the name:\n",
      "dhananjay\n",
      "enter ncell number:\n",
      "980765432\n",
      "enter the ntc:\n",
      "986642323243\n",
      "enter the name:\n",
      "pk\n",
      "enter ncell number:\n",
      "980765432\n",
      "enter the ntc:\n",
      "9877654\n",
      "{'name': ['pk', 'p', 'k'], 'ncell': [980765432, 980765432], 'ntc': [9877654, 9877654]}\n"
     ]
    }
   ],
   "source": [
    "\n",
    "\n",
    "d={}\n",
    "n=int(input('for for loop'))\n",
    "for item in range(n):\n",
    "    name=input('enter the name:\\n')\n",
    "    ncell=int(input('enter ncell number:\\n'))\n",
    "    ntc=int(input('enter the ntc:\\n'))\n",
    "    d['name']= [name]\n",
    "    d['ncell']=[ncell]\n",
    "    d['ntc']= [ntc]\n",
    "    \n",
    "    d['name'].extend(name)# add diff .(multiple data in list)  key data of name \n",
    "    d['ncell'].append(ncell)\n",
    "    d['ntc'].append(ntc)\n",
    "    #d['name'],d['ncell'],d['ntc']=[name],[ncell],[ntc] \n",
    "print(d)    "
   ]
  },
  {
   "cell_type": "code",
   "execution_count": 3,
   "id": "8b5cdcb3",
   "metadata": {},
   "outputs": [
    {
     "name": "stdout",
     "output_type": "stream",
     "text": [
      "enter for loop2\n",
      "enter the name:\n",
      "dj\n",
      "enter ncell number:\n",
      "986653535\n",
      "enter the ntc:\n",
      "98076\n",
      "enter the name:\n",
      "pk\n",
      "enter ncell number:\n",
      "98766553\n",
      "enter the ntc:\n",
      "9806653\n"
     ]
    },
    {
     "data": {
      "text/plain": [
       "{'name': ['dj', 'pk'], 'ntc': [98076, 9806653], 'ncell': [986653535, 98766553]}"
      ]
     },
     "execution_count": 3,
     "metadata": {},
     "output_type": "execute_result"
    }
   ],
   "source": [
    "d={'name':[],'ntc':[],'ncell':[]}\n",
    "n=int(input('enter for loop'))\n",
    "for i in range(n):\n",
    "    name=input('enter the name:\\n')\n",
    "    ncell=int(input('enter ncell number:\\n'))\n",
    "    ntc=int(input('enter the ntc:\\n'))\n",
    "    d['name'].append(name),d['ntc'].append(ntc),d['ncell'].append(ncell)\n",
    "d    "
   ]
  },
  {
   "cell_type": "code",
   "execution_count": 4,
   "id": "b41ddea3",
   "metadata": {},
   "outputs": [
    {
     "name": "stdout",
     "output_type": "stream",
     "text": [
      "dj 9806653 986653535\n"
     ]
    }
   ],
   "source": [
    "print(d['name'][0],d['ntc'][1],d['ncell'][0]) # for accessing\n"
   ]
  },
  {
   "cell_type": "code",
   "execution_count": 5,
   "id": "a0f51a1d",
   "metadata": {},
   "outputs": [],
   "source": [
    "# dictionary inside dictionary (using crud i.e read, update,delet...)H/W"
   ]
  },
  {
   "cell_type": "code",
   "execution_count": 2,
   "id": "7a76785a",
   "metadata": {},
   "outputs": [
    {
     "name": "stdout",
     "output_type": "stream",
     "text": [
      "{'name': 'dj', 'age': 24, 'add': 'kathmandu'}\n",
      "dj\n"
     ]
    },
    {
     "data": {
      "text/plain": [
       "24"
      ]
     },
     "execution_count": 2,
     "metadata": {},
     "output_type": "execute_result"
    }
   ],
   "source": [
    "#DICTIONARY INSIDE DICT\n",
    "d={1:{'name':'dj','age':24,'add':'kathmandu'},\n",
    "   2:{'name':'pk','age':23,'add':'npj'}}\n",
    "# indexing\n",
    "print(d[1])\n",
    "print(d[1]['name'])# access inside data \n",
    "d[1]['age']\n"
   ]
  },
  {
   "cell_type": "code",
   "execution_count": null,
   "id": "ff96a9e1",
   "metadata": {},
   "outputs": [],
   "source": [
    "d={'name':[],'ntc':[],'ncell':[]}\n",
    "n=int(input('enter for loop'))\n",
    "for i in range(n):\n",
    "    name=input('enter the name:\\n')\n",
    "    ncell=int(input('enter ncell number:\\n'))\n",
    "    ntc=int(input('enter the ntc:\\n'))\n",
    "    d['name'].append(name),d['ntc'].append(ntc),d['ncell'].append(ncell)\n",
    "d    "
   ]
  },
  {
   "cell_type": "code",
   "execution_count": 1,
   "id": "fb624c2e",
   "metadata": {},
   "outputs": [],
   "source": [
    "# wap to create billing application using list inside list dict inside dict and crud\n",
    "#wap to create above dict inside dict and do crud operation\n",
    "# wap to create tuple inside tuple \n",
    "# wap to convert tuple inside tuple to list inside list\n"
   ]
  },
  {
   "cell_type": "code",
   "execution_count": 7,
   "id": "ab5b3897",
   "metadata": {},
   "outputs": [
    {
     "name": "stdout",
     "output_type": "stream",
     "text": [
      "enter the data1\n"
     ]
    },
    {
     "ename": "TypeError",
     "evalue": "'int' object is not iterable",
     "output_type": "error",
     "traceback": [
      "\u001b[1;31m---------------------------------------------------------------------------\u001b[0m",
      "\u001b[1;31mTypeError\u001b[0m                                 Traceback (most recent call last)",
      "Cell \u001b[1;32mIn[7], line 8\u001b[0m\n\u001b[0;32m      5\u001b[0m output_list \u001b[38;5;241m=\u001b[39m []\n\u001b[0;32m      7\u001b[0m \u001b[38;5;66;03m# Iterate through the input tuple\u001b[39;00m\n\u001b[1;32m----> 8\u001b[0m \u001b[38;5;28;01mfor\u001b[39;00m i \u001b[38;5;129;01min\u001b[39;00m inner_tuple:\n\u001b[0;32m      9\u001b[0m     \u001b[38;5;66;03m# Initialize an empty list for each inner tuple\u001b[39;00m\n\u001b[0;32m     10\u001b[0m     inner_list \u001b[38;5;241m=\u001b[39m []\n\u001b[0;32m     11\u001b[0m     \u001b[38;5;66;03m# Iterate through the elements of the inner tuple\u001b[39;00m\n",
      "\u001b[1;31mTypeError\u001b[0m: 'int' object is not iterable"
     ]
    }
   ],
   "source": [
    "# Input tuple co\n",
    "inner_tuple = int(input('enter the data'))  #((1, 2), (3, 4), (5, 6))\n",
    "\n",
    "# Initialize an empty list to store the converted elements\n",
    "output_list = []\n",
    "\n",
    "# Iterate through the input tuple\n",
    "for i in inner_tuple:\n",
    "    # Initialize an empty list for each inner tuple\n",
    "    inner_list = []\n",
    "    # Iterate through the elements of the inner tuple\n",
    "    for element in inner_tuple:\n",
    "        # Append the element to the inner list\n",
    "        inner_list.append(element)\n",
    "    # Append the inner list to the output list\n",
    "    output_list.append(inner_list)\n",
    "\n",
    "# Print the converted list\n",
    "print(\"Converted List:\", output_list)\n",
    "\n",
    "    "
   ]
  },
  {
   "cell_type": "code",
   "execution_count": 2,
   "id": "204e89f7",
   "metadata": {},
   "outputs": [
    {
     "name": "stdout",
     "output_type": "stream",
     "text": [
      "converted list [[(1, 2), (3, 4), (5, 6)], [(1, 2), (3, 4), (5, 6)], [(1, 2), (3, 4), (5, 6)]]\n"
     ]
    }
   ],
   "source": [
    "a=((1,2),(3,4),(5,6))\n",
    "l=[]\n",
    "for i in a:\n",
    "    innerList=[]\n",
    "    for element in a:\n",
    "        innerList.append(element)\n",
    "    l.append(innerList)  \n",
    "print('converted list',l)    \n",
    "    "
   ]
  },
  {
   "cell_type": "code",
   "execution_count": 13,
   "id": "957a45ec",
   "metadata": {},
   "outputs": [
    {
     "name": "stdout",
     "output_type": "stream",
     "text": [
      "enter the tuple data=1\n",
      "enter the tuple data=2\n",
      "enter the tuple data=3\n",
      "(1, 2, 3)\n"
     ]
    }
   ],
   "source": [
    "t=tuple()\n",
    "n= int(input('enter for loop'))\n",
    "for i in range(n):\n",
    "    x=int(input('enter the tuple data='))\n",
    "    t=t+(x,)\n",
    "    \n",
    "print(t)\n",
    "    \n",
    "\n"
   ]
  },
  {
   "cell_type": "markdown",
   "id": "a40121d4",
   "metadata": {},
   "source": [
    "#### "
   ]
  }
 ],
 "metadata": {
  "kernelspec": {
   "display_name": "Python 3 (ipykernel)",
   "language": "python",
   "name": "python3"
  },
  "language_info": {
   "codemirror_mode": {
    "name": "ipython",
    "version": 3
   },
   "file_extension": ".py",
   "mimetype": "text/x-python",
   "name": "python",
   "nbconvert_exporter": "python",
   "pygments_lexer": "ipython3",
   "version": "3.9.13"
  }
 },
 "nbformat": 4,
 "nbformat_minor": 5
}
