{
 "cells": [
  {
   "cell_type": "markdown",
   "id": "cc459dfd",
   "metadata": {},
   "source": [
    "# tuples are immutable data type in pytrhon ,they are seq. of heterogenious data type (we can say iterable)\n"
   ]
  },
  {
   "cell_type": "code",
   "execution_count": 4,
   "id": "8f2908b8",
   "metadata": {},
   "outputs": [
    {
     "name": "stdout",
     "output_type": "stream",
     "text": [
      "[1, 2, 3, 4]\n",
      "a o u\n",
      "('a', 'e', 'i', 'o', 'u') ('a', 'e', 'i') ('e', 'i', 'o') () ('e', 'o') ('a', 'i')\n"
     ]
    }
   ],
   "source": [
    "# int ,float ,list dic,bool set,complex\n",
    "# we can used as a touple data type or type casting likre print(tuple())\n",
    "\n",
    "a=()\n",
    "a\n",
    "b=tuple()\n",
    "# creating touple\n",
    "a=[1,2,3,4]\n",
    "b=tuple(a)\n",
    "print(a)\n",
    "# accessing is similer to indexing:indexing,slicing\n",
    "v=('a','e','i','o','u')\n",
    "print(v[0],v[3],v[-1])\n",
    "# for slicing\n",
    "\n",
    "print(v[:5],v[0:3],v[-4:-1],v[-1:-3:1],v[1:4:2],v[0:4:2])"
   ]
  },
  {
   "cell_type": "markdown",
   "id": "5398b79e",
   "metadata": {},
   "source": [
    "# tuple packing and unpacking\n",
    "- a=1\n"
   ]
  },
  {
   "cell_type": "code",
   "execution_count": 5,
   "id": "aa3ee8dd",
   "metadata": {},
   "outputs": [
    {
     "name": "stdout",
     "output_type": "stream",
     "text": [
      "<class 'int'>\n",
      "<class 'tuple'>\n",
      "1 2 3\n"
     ]
    }
   ],
   "source": [
    "a=1\n",
    "print(type(a))\n",
    "b=1,# ie touple\n",
    "print(type(b))\n",
    "a=1,2,3# tuple paking\n",
    "a\n",
    "a,b,c=1,2,3# unpacking\n",
    "print(a,b,c)"
   ]
  },
  {
   "cell_type": "code",
   "execution_count": 11,
   "id": "22861fc3",
   "metadata": {},
   "outputs": [
    {
     "name": "stdout",
     "output_type": "stream",
     "text": [
      "3\n",
      "2\n"
     ]
    },
    {
     "data": {
      "text/plain": [
       "\"'\\na,b=b,a #pack and unpack (2,3)=(3,2)\\nprint(a,b)\""
      ]
     },
     "execution_count": 11,
     "metadata": {},
     "output_type": "execute_result"
    }
   ],
   "source": [
    "a=2\n",
    "b=3\n",
    "mp=a\n",
    "a=b\n",
    "b=temp\n",
    "print(a)\n",
    "print(b)\n",
    "''''\n",
    "a,b=b,a #pack and unpack (2,3)=(3,2)\n",
    "print(a,b)'''\n",
    "\n"
   ]
  },
  {
   "cell_type": "markdown",
   "id": "2ebbfe13",
   "metadata": {},
   "source": [
    "# index()\n",
    "# count()\n"
   ]
  },
  {
   "cell_type": "code",
   "execution_count": 12,
   "id": "dc9cb007",
   "metadata": {},
   "outputs": [
    {
     "name": "stdout",
     "output_type": "stream",
     "text": [
      "3\n",
      "0\n",
      "4\n"
     ]
    }
   ],
   "source": [
    "# Tuple being immutable there are only two methods\n",
    "# index()\n",
    "# count()\n",
    "\n",
    "data = (\"a\", \"b\", \"c\", \"b\", \"a\", \"a\", \"b\")\n",
    "\n",
    "result = data.count(\"a\")\n",
    "print(result)  # 3\n",
    "\n",
    "result = data.index(\"a\")\n",
    "print(result)  # 0\n",
    "\n",
    "result = data.index(\"a\", 1, 6)\n",
    "print(result)  # 4\n"
   ]
  },
  {
   "cell_type": "code",
   "execution_count": 13,
   "id": "340eaa63",
   "metadata": {},
   "outputs": [],
   "source": [
    "# operation"
   ]
  },
  {
   "cell_type": "code",
   "execution_count": 15,
   "id": "c1082506",
   "metadata": {},
   "outputs": [
    {
     "name": "stdout",
     "output_type": "stream",
     "text": [
      "(1, 2, 3, 4)\n",
      "(1, 2, 1, 2, 1, 2)\n",
      "True\n",
      "False\n"
     ]
    }
   ],
   "source": [
    "# Concatenation (+)\n",
    "\n",
    "a = (1, 2)\n",
    "b = (3, 4)\n",
    "print(a + b)  # (1, 2, 3, 4)\n",
    "\n",
    "# Repetition (*)\n",
    "a = (1, 2) * 3\n",
    "print(a)  # (1, 2, 1, 2, 1, 2)\n",
    "# membership operattion\n",
    "print(1 in (1,2))\n",
    "print(3 not in (2,3))"
   ]
  },
  {
   "cell_type": "code",
   "execution_count": 16,
   "id": "b422989f",
   "metadata": {},
   "outputs": [
    {
     "data": {
      "text/plain": [
       "[1, 2, 3, 3, 5, 7]"
      ]
     },
     "execution_count": 16,
     "metadata": {},
     "output_type": "execute_result"
    }
   ],
   "source": [
    "# sorted()\n",
    "data=(1,2,3,5,3,7)\n",
    "r=sorted(data)\n",
    "r"
   ]
  },
  {
   "cell_type": "code",
   "execution_count": 18,
   "id": "b77be067",
   "metadata": {},
   "outputs": [],
   "source": [
    "a=[5,4,23,]\n",
    "r=a.sort()# list method\n",
    "r=a.sort(reverse=True)# list methos\n",
    "r"
   ]
  },
  {
   "cell_type": "code",
   "execution_count": 22,
   "id": "355a0013",
   "metadata": {},
   "outputs": [
    {
     "name": "stdout",
     "output_type": "stream",
     "text": [
      "[1, 2, 5, 10]\n"
     ]
    }
   ],
   "source": [
    "d=(2,10,1,5)\n",
    "r=sorted(reversed(d))# for only reverse =reversed(d)\n",
    "\n",
    "print(list(r))"
   ]
  },
  {
   "cell_type": "code",
   "execution_count": 23,
   "id": "2ea05896",
   "metadata": {},
   "outputs": [
    {
     "name": "stdout",
     "output_type": "stream",
     "text": [
      "[1, 2, 3, 5, 10, 20]\n",
      "[20, 10, 5, 3, 2, 1]\n",
      "None\n",
      "[3, 5, 1, 20, 10, 2]\n"
     ]
    }
   ],
   "source": [
    "# sorted()\n",
    "data = (2, 10, 20, 1, 5, 3)\n",
    "result = sorted(data)\n",
    "print(result)  # [1, 2, 3, 5, 10, 20]\n",
    "\n",
    "result = sorted(data, reverse=True)\n",
    "print(result)  # [20, 10, 5, 3, 2, 1]\n",
    "\n",
    "\n",
    "a = [5, 4, 1, 2]\n",
    "result = a.sort()  # List Method\n",
    "result = a.sort(reverse=True)  # List Method\n",
    "print(result)  # None\n",
    "\n",
    "\n",
    "# reversed\n",
    "data = (2, 10, 20, 1, 5, 3)\n",
    "result = reversed(data)\n",
    "print(list(result))  # [3, 5, 1, 20, 20, 2]"
   ]
  },
  {
   "cell_type": "markdown",
   "id": "95387e96",
   "metadata": {},
   "source": [
    "# conditional statement\n",
    "## variation of conditional statement\n",
    "- simple if"
   ]
  },
  {
   "cell_type": "code",
   "execution_count": 27,
   "id": "1a906f90",
   "metadata": {},
   "outputs": [],
   "source": [
    "# simple if :we can write condition or any t and f data with statement and also logical\n",
    "a=5\n",
    "b=3\n",
    "\n",
    "if a==0:\n",
    "    print('a i s not 0')\n"
   ]
  },
  {
   "cell_type": "code",
   "execution_count": 28,
   "id": "672e3c93",
   "metadata": {},
   "outputs": [
    {
     "name": "stdout",
     "output_type": "stream",
     "text": [
      "enter the number2\n",
      "a is odd\n"
     ]
    }
   ],
   "source": [
    "\n",
    "#qs: take a user input and check odd or even\n",
    "\n",
    "\n",
    "\n",
    "a=int(input('enter the number'))\n",
    "#b=int(input('enter the number'))\n",
    "print('a is odd') if a%2==0 else print('odd')\n",
    "if a%==0:\n",
    "    print('a is odd')\n",
    "else:\n",
    "    print('odd')\n",
    "    print(f'{a} is odd)"
   ]
  },
  {
   "cell_type": "code",
   "execution_count": null,
   "id": "113d1ac0",
   "metadata": {},
   "outputs": [],
   "source": [
    "# qs wap to take input .if the number is divisible by 3 the print 'fizzz', if div by 5 then print 'buzz',if div by both 3 and 5 then print 'fizzbuzz'if not divide by 3 or 5 print the num as it is\n",
    "a=int(input('the number'))\n",
    "if a%5==0 and a%3==0:\n",
    "    print('fizzbuzz')\n",
    "\n",
    "elif a%3==0:\n",
    "    print('fizz')\n",
    "elif a%5==0:\n",
    "    print('buzz')\n",
    "else:\n",
    "    print(a)"
   ]
  },
  {
   "cell_type": "code",
   "execution_count": null,
   "id": "c5a78c78",
   "metadata": {},
   "outputs": [],
   "source": [
    "# Condition statement is used to make decisions in a program during program execution\n",
    "# We can write conditions or True or False or any other Truthy or falsy data with if statement\n",
    "\n",
    "# Variations of if statements in Python\n",
    "\n",
    "# 1. Simple if\n",
    "a = 5\n",
    "b = 10\n",
    "if a:\n",
    "    print(\"a is not zero\")\n",
    "\n",
    "if b > a:\n",
    "    print(\"b is greater than a\")\n",
    "\n",
    "#2.  if...else statement\n",
    "a = 0\n",
    "if a:\n",
    "    print(\"a is not zero\")\n",
    "else:\n",
    "    print(\"a is 0\")\n",
    "\n",
    "\n",
    "# 3. if...elif...elif...  (if..elif ladder)\n",
    "a = 2\n",
    "b = 2\n",
    "c = 5\n",
    "\n",
    "if a > c:\n",
    "    print(\"a is greater than c\")\n",
    "elif a == b:\n",
    "    print(\"a is equal to b\")\n",
    "elif c > b:\n",
    "    print(\"c is greater than b\")\n",
    "\n",
    "\n",
    "# 4. # 3. if...elif...elif...else\n",
    "if a > c:\n",
    "    print(\"a is greater than c\")\n",
    "elif a == b:\n",
    "    print(\"a is equal to b\")\n",
    "elif c > b:\n",
    "    print(\"c is greater than b\")\n",
    "else:\n",
    "    print(\"None of the above statements are True\")\n",
    "\n",
    "\n",
    "a = 2\n",
    "b = 2\n",
    "c = 5\n",
    "\n",
    "if c > a:\n",
    "    print(\"c is greater than a\")\n",
    "elif a == b:\n",
    "    print(\"a is equal to b\")\n",
    "elif c > b:\n",
    "    print(\"c is greater than b\")\n",
    "\n",
    "\n",
    "if c > a:\n",
    "    print(\"c is greater than a\")\n",
    "if a == b:\n",
    "    print(\"a is equal to b\")\n",
    "elif c > b:\n",
    "    print(\"c is greater than b\")\n",
    "\n",
    "\n",
    "# 5. ternary if\n",
    "a = 10\n",
    "b = 5\n",
    "print(\"b is greater than a\") if b > a else print(\"a is greater than b\")\n",
    "\n",
    "if b > a:\n",
    "    print(\"b is greater than a\")\n",
    "else:\n",
    "    print(\"a is greater than b\")"
   ]
  }
 ],
 "metadata": {
  "kernelspec": {
   "display_name": "Python 3 (ipykernel)",
   "language": "python",
   "name": "python3"
  },
  "language_info": {
   "codemirror_mode": {
    "name": "ipython",
    "version": 3
   },
   "file_extension": ".py",
   "mimetype": "text/x-python",
   "name": "python",
   "nbconvert_exporter": "python",
   "pygments_lexer": "ipython3",
   "version": "3.10.10"
  }
 },
 "nbformat": 4,
 "nbformat_minor": 5
}
