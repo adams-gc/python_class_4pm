{
 "cells": [
  {
   "cell_type": "markdown",
   "id": "dcf02b02",
   "metadata": {},
   "source": [
    "# - file= open('<file_name>','< mode>')\n",
    "# - file.close()"
   ]
  },
  {
   "cell_type": "markdown",
   "id": "17f312c8",
   "metadata": {},
   "source": [
    "# modes:\n",
    "- create->x\n",
    "- read-> r\n",
    "- write->w\n",
    "- append ->a"
   ]
  },
  {
   "cell_type": "markdown",
   "id": "6b7a901e",
   "metadata": {},
   "source": [
    "file= open('data.txt,'x')# create\n",
    "file.close()"
   ]
  },
  {
   "cell_type": "code",
   "execution_count": 6,
   "id": "b91609e9",
   "metadata": {},
   "outputs": [
    {
     "name": "stdout",
     "output_type": "stream",
     "text": [
      "\n"
     ]
    }
   ],
   "source": [
    "file=open('data.txt','r')# read\n",
    "data=file.read()\n",
    "print(data)\n",
    "file.close()"
   ]
  },
  {
   "cell_type": "code",
   "execution_count": 7,
   "id": "cc4627f7",
   "metadata": {},
   "outputs": [
    {
     "data": {
      "text/plain": [
       "str"
      ]
     },
     "execution_count": 7,
     "metadata": {},
     "output_type": "execute_result"
    }
   ],
   "source": [
    "type(data)"
   ]
  },
  {
   "cell_type": "code",
   "execution_count": 9,
   "id": "36e7ea87",
   "metadata": {},
   "outputs": [
    {
     "data": {
      "text/plain": [
       "['']"
      ]
     },
     "execution_count": 9,
     "metadata": {},
     "output_type": "execute_result"
    }
   ],
   "source": [
    "data.split('\\n')\n",
    "# for split the data"
   ]
  },
  {
   "cell_type": "code",
   "execution_count": 12,
   "id": "a9c8f395",
   "metadata": {},
   "outputs": [
    {
     "data": {
      "text/plain": [
       "''"
      ]
     },
     "execution_count": 12,
     "metadata": {},
     "output_type": "execute_result"
    }
   ],
   "source": [
    "# for indexing the split data\n",
    "data.split('\\n')[0]"
   ]
  },
  {
   "cell_type": "code",
   "execution_count": 14,
   "id": "a4cf3a21",
   "metadata": {},
   "outputs": [],
   "source": [
    "# weite w \n",
    "file= open('data1','w')\n",
    "file.write('hello dj')\n",
    "file.close()"
   ]
  },
  {
   "cell_type": "code",
   "execution_count": null,
   "id": "a470927c",
   "metadata": {},
   "outputs": [],
   "source": [
    "bill=''\n",
    "n=int(input('enter the for loop'))\n",
    "for i in range(n):\n",
    "    name=input('enter the name=')\n",
    "    price=float(input('enter the price'))\n",
    "    qty=int(input('enter the queaantity='))\n",
    "    totl= price*qty\n",
    "    bill=bill+f'{name} \\t{price}\\t{qty}\\t{total}\\n'\n",
    "file=open('bill.text','w')\n",
    "file.write('name \\tprice \\tqty \\ttotal\\n')\n",
    "file.write(bill)\n",
    "file.close()"
   ]
  },
  {
   "cell_type": "code",
   "execution_count": null,
   "id": "9678e48c",
   "metadata": {},
   "outputs": [],
   "source": [
    "# file = open('<file_name>','<mode>')\n",
    "# file.close()\n",
    "# modes\n",
    "# create  -> x\n",
    "# read    -> r\n",
    "# write   -> w\n",
    "# append  -> a\n",
    "file = open('data.txt','x')\n",
    "file.close()\n",
    "file = open('data.txt','r')\n",
    "data = file.read()\n",
    "print(data)\n",
    "file.close()\n",
    "type(data)\n",
    "data.split('\\n')\n",
    "data.split('\\n')[1]\n",
    "file = open('data1.txt','w')\n",
    "file.write(\"Hello World\")\n",
    "file.close()\n",
    "bill = \"\"\n",
    "n = int(input(\"Enter n = \"))\n",
    "for i in range(n):\n",
    "    name = input(\"Enter product name = \")\n",
    "    price = int(input(\"Enter price = \"))\n",
    "    qty = float(input(\"Enter qty = \"))\n",
    "    total = price * qty\n",
    "    bill = bill + f\"{name} \\t{price} \\t{qty} \\t{total}\\n\"\n",
    "\n",
    "file = open('bill.txt','w')\n",
    "file.write('Name \\tPrice \\tQty \\tTotal\\n')\n",
    "file.write(bill)\n",
    "file.close()\n",
    "file = open('bill.txt','r')\n",
    "data = file.read()\n",
    "print(data)\n",
    "file.close()\n",
    "a = \"Apple_Ball_Cat\"\n",
    "a.split('_')\n",
    "\n",
    "data\n",
    "\n",
    "list_data = data.split('\\n')\n",
    "list_data\n",
    "# for i in list_data:\n",
    "#     print(i)\n",
    "list_data = data.split('\\n')[:-1]\n",
    "for i in list_data:\n",
    "    print(i.split(' \\t'))\n",
    "bill = \"\"\n",
    "n = int(input(\"Enter n = \"))\n",
    "for i in range(n):\n",
    "    name = input(\"Enter product name = \")\n",
    "    price = int(input(\"Enter price = \"))\n",
    "    qty = float(input(\"Enter qty = \"))\n",
    "    total = price * qty\n",
    "    bill = bill + f\"{name},{price},{qty},{total}\\n\"\n",
    "\n",
    "file = open('bill.csv','w')\n",
    "file.write('Name,Price,Qty,Total\\n')\n",
    "file.write(bill)\n",
    "file.close()\n",
    "pwd\n",
    "import pandas as pd\n",
    "df = pd.read_csv('bill.csv')\n",
    "df              #dataframe\n"
   ]
  },
  {
   "cell_type": "markdown",
   "id": "2187eb4d",
   "metadata": {},
   "source": [
    "# csv\n",
    "- :comma seperated value\n",
    "- used package used pandas in 2d data\n"
   ]
  },
  {
   "cell_type": "code",
   "execution_count": 1,
   "id": "04f3fe34",
   "metadata": {},
   "outputs": [],
   "source": [
    "file=open(\"new_data.csv\",'x')\n",
    "file.close()"
   ]
  },
  {
   "cell_type": "markdown",
   "id": "8a397d3d",
   "metadata": {},
   "source": [
    "import pandas as pd\n",
    "df=pd.read_csv('new_data.csv')\n",
    "df\n"
   ]
  },
  {
   "cell_type": "code",
   "execution_count": null,
   "id": "d493232b",
   "metadata": {},
   "outputs": [],
   "source": []
  }
 ],
 "metadata": {
  "kernelspec": {
   "display_name": "Python 3 (ipykernel)",
   "language": "python",
   "name": "python3"
  },
  "language_info": {
   "codemirror_mode": {
    "name": "ipython",
    "version": 3
   },
   "file_extension": ".py",
   "mimetype": "text/x-python",
   "name": "python",
   "nbconvert_exporter": "python",
   "pygments_lexer": "ipython3",
   "version": "3.9.13"
  }
 },
 "nbformat": 4,
 "nbformat_minor": 5
}
