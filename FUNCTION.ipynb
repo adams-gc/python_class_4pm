{
 "cells": [
  {
   "cell_type": "markdown",
   "id": "e986e86f",
   "metadata": {},
   "source": [
    "# function are two type i.e user defined and builtin function\n",
    "- what is function\n",
    "- why fun?\n",
    "- how to used fun\n",
    "- type of function : two type of function\n"
   ]
  },
  {
   "cell_type": "code",
   "execution_count": 1,
   "id": "5fa55b5b",
   "metadata": {},
   "outputs": [],
   "source": [
    "# pre define fun\n",
    "# i.e print(),float(),list(),tuple(),dictory(),set()........etc\n"
   ]
  },
  {
   "cell_type": "code",
   "execution_count": 2,
   "id": "9ee9fa9a",
   "metadata": {},
   "outputs": [],
   "source": [
    "# user define fun\n",
    "# def <function_name>(): # defining the function\n",
    "#   <operation>\n",
    "# function_name() # calling the function\n"
   ]
  },
  {
   "cell_type": "code",
   "execution_count": 3,
   "id": "008ce6c5",
   "metadata": {},
   "outputs": [
    {
     "name": "stdout",
     "output_type": "stream",
     "text": [
      "hell dj\n"
     ]
    }
   ],
   "source": [
    "def hello():\n",
    "    print('hell dj')\n",
    "hello()    "
   ]
  },
  {
   "cell_type": "code",
   "execution_count": 6,
   "id": "c8d02d84",
   "metadata": {},
   "outputs": [
    {
     "name": "stdout",
     "output_type": "stream",
     "text": [
      "enter data l1\n",
      "enter data b2\n",
      "2\n"
     ]
    }
   ],
   "source": [
    "def cal():\n",
    "    # those l,b,a are the local variable1\n",
    "\n",
    "    l= int(input('enter data l'))\n",
    "    b=int(input('enter data b'))\n",
    "    a=l*b\n",
    "    print(a)\n",
    "cal()    "
   ]
  },
  {
   "cell_type": "code",
   "execution_count": 11,
   "id": "c83e76da",
   "metadata": {},
   "outputs": [
    {
     "name": "stdout",
     "output_type": "stream",
     "text": [
      "enter data l=2\n",
      "enter data b=2\n",
      "4\n"
     ]
    }
   ],
   "source": [
    "###  for globle variable : i.we can assics oute site the function also and aaswell as inside the function\n",
    "l= int(input('enter data l='))\n",
    "b=int(input('enter data b='))\n",
    "def cal():\n",
    "    \n",
    "    a= l*b\n",
    "    print(a)\n",
    "cal()    "
   ]
  },
  {
   "cell_type": "code",
   "execution_count": 16,
   "id": "b890bd26",
   "metadata": {},
   "outputs": [
    {
     "name": "stdout",
     "output_type": "stream",
     "text": [
      "enter data l=2\n",
      "enter data b=2\n",
      "4\n",
      "2 2 4\n"
     ]
    }
   ],
   "source": [
    "def cal():\n",
    "    global a,l,b  #  for making the globle variable\n",
    "    \n",
    "    l= int(input('enter data l='))\n",
    "    b=int(input('enter data b='))\n",
    "    a=l*b\n",
    "    print(a)\n",
    "cal()\n",
    "print(l,b,a) # for  accessing the function data as globle "
   ]
  },
  {
   "cell_type": "markdown",
   "id": "a2ca798b",
   "metadata": {},
   "source": [
    "# arguments and return type\n"
   ]
  },
  {
   "cell_type": "code",
   "execution_count": 17,
   "id": "a00b99d1",
   "metadata": {},
   "outputs": [
    {
     "name": "stdout",
     "output_type": "stream",
     "text": [
      "enter data l2\n",
      "enter data b2\n",
      "4\n"
     ]
    }
   ],
   "source": [
    "# function with argument\n",
    "def cal(x,y):# parameter\n",
    "    a=l*b\n",
    "    print(a)\n",
    "l= int(input('enter data l'))\n",
    "b=int(input('enter data b'))\n",
    "cal(l,b) # l,b are argument   \n",
    "\n"
   ]
  },
  {
   "cell_type": "code",
   "execution_count": 20,
   "id": "3cf86f5f",
   "metadata": {},
   "outputs": [
    {
     "name": "stdout",
     "output_type": "stream",
     "text": [
      "enter data l=22\n",
      "enter data b=2\n",
      "enter data h=2\n",
      "44\n",
      "88\n"
     ]
    }
   ],
   "source": [
    "def area(x,y):\n",
    "    a=l*b\n",
    "    print(a)\n",
    "def volum(x,y,z):\n",
    "    v=l*b*h\n",
    "    print(v)\n",
    "l= int(input('enter data l='))\n",
    "b=int(input('enter data b='))\n",
    "h=int(input('enter data h='))\n",
    "area(l,b)\n",
    "volum(l,b,h)"
   ]
  },
  {
   "cell_type": "code",
   "execution_count": 23,
   "id": "3de1818a",
   "metadata": {},
   "outputs": [
    {
     "name": "stdout",
     "output_type": "stream",
     "text": [
      "c\n",
      "c#\n",
      "python\n"
     ]
    }
   ],
   "source": [
    "## parameter having defult value\n",
    "def language(lan='python'):\n",
    "    print(lan)\n",
    "language('c')\n",
    "language('c#')\n",
    "language()\n",
    "\n"
   ]
  },
  {
   "cell_type": "raw",
   "id": "1e7af3cc",
   "metadata": {},
   "source": [
    "# return values\n",
    "# return type function\n"
   ]
  },
  {
   "cell_type": "code",
   "execution_count": 26,
   "id": "4ecd983f",
   "metadata": {},
   "outputs": [
    {
     "name": "stdout",
     "output_type": "stream",
     "text": [
      "enter data l=2\n",
      "enter data b=2\n",
      "4\n"
     ]
    }
   ],
   "source": [
    "def area():\n",
    "    l= int(input('enter data l='))\n",
    "    b=int(input('enter data b='))\n",
    "    a=l*b\n",
    "    return a\n",
    "ar=area()\n",
    "print(ar) # also we write print(area())\n",
    "\n",
    "    "
   ]
  },
  {
   "cell_type": "code",
   "execution_count": 28,
   "id": "fead8ea4",
   "metadata": {},
   "outputs": [
    {
     "name": "stdout",
     "output_type": "stream",
     "text": [
      "enter data l=2\n",
      "enter data b=2\n",
      "4\n",
      "enter hight2\n",
      "enter data l=2\n",
      "enter data b=2\n",
      "8\n"
     ]
    }
   ],
   "source": [
    "def area():\n",
    "    l= int(input('enter data l='))\n",
    "    b=int(input('enter data b='))\n",
    "    a=l*b\n",
    "    return a\n",
    "print(area())\n",
    "h= int(input('enter hight'))\n",
    "ar=area()\n",
    "v=ar*h\n",
    "print(v)"
   ]
  },
  {
   "cell_type": "code",
   "execution_count": 31,
   "id": "4cc25fd0",
   "metadata": {},
   "outputs": [
    {
     "name": "stdout",
     "output_type": "stream",
     "text": [
      "enter data l=2\n",
      "enter data b=2\n",
      "4\n",
      "enter hight2\n",
      "8\n"
     ]
    }
   ],
   "source": [
    "def area(x,y):\n",
    "    a=l*b\n",
    "    return a\n",
    "    \n",
    "l= int(input('enter data l='))\n",
    "b=int(input('enter data b='))\n",
    "ar=area(l,b)\n",
    "print(ar)\n",
    "h= int(input('enter hight'))\n",
    "v=ar*h\n",
    "print(v)"
   ]
  },
  {
   "cell_type": "code",
   "execution_count": 33,
   "id": "36c0b7e8",
   "metadata": {},
   "outputs": [
    {
     "name": "stdout",
     "output_type": "stream",
     "text": [
      "enter the length=2\n",
      "enter the breth=2\n",
      "enter the hight=2\n",
      "4\n",
      "8\n"
     ]
    }
   ],
   "source": [
    "## \n",
    "def area(x,y):\n",
    "    a=x*y\n",
    "    print(a)\n",
    "    def volume(x,y,z):\n",
    "        v=l*b*h\n",
    "        print(v)\n",
    "l=int(input('enter the length=')) \n",
    "b=int(input('enter the breth=')) \n",
    "h=int(input('enter the hight=')) \n",
    "area(l,b)\n",
    "volum(l,b,h)"
   ]
  },
  {
   "cell_type": "code",
   "execution_count": 34,
   "id": "7c58fcfe",
   "metadata": {},
   "outputs": [
    {
     "name": "stdout",
     "output_type": "stream",
     "text": [
      "enter the length=2\n",
      "enter the breth=2\n",
      "enter the hight=2\n",
      "8\n",
      "None\n"
     ]
    }
   ],
   "source": [
    "## function with argument \n",
    "def area(x,y):\n",
    "    a=x*y\n",
    "    return a\n",
    "    def volume(x,y,z):\n",
    "        a=area(x,y)\n",
    "        v=a*h\n",
    "        return v\n",
    "l=int(input('enter the length=')) \n",
    "b=int(input('enter the breth=')) \n",
    "h=int(input('enter the hight=')) \n",
    "area(l,b)\n",
    "print(volum(l,b,h))"
   ]
  },
  {
   "cell_type": "markdown",
   "id": "5912c68d",
   "metadata": {},
   "source": [
    "# # wap to create create calculater using if and ilse and used return type function"
   ]
  },
  {
   "cell_type": "code",
   "execution_count": 1,
   "id": "b4f26a1f",
   "metadata": {},
   "outputs": [],
   "source": [
    "# take a variable  for operation like add, sub, mul, dev,\n",
    "# "
   ]
  },
  {
   "cell_type": "code",
   "execution_count": null,
   "id": "deb95adb",
   "metadata": {},
   "outputs": [],
   "source": [
    "def add(x, y):\n",
    "    return x + y\n",
    "\n",
    "def subtract(x, y):\n",
    "    return x - y\n",
    "\n",
    "def multiply(x, y):\n",
    "    return x * y\n",
    "\n",
    "def divide(x, y):\n",
    "    if y == 0:\n",
    "        return \"Error! Division by zero.\"\n",
    "    else:\n",
    "        return x / y\n",
    "\n",
    "def calculator():\n",
    "    print(\"Select operation:\")\n",
    "    print(\"1. Add\")\n",
    "    print(\"2. Subtract\")\n",
    "    print(\"3. Multiply\")\n",
    "    print(\"4. Divide\")\n",
    "\n",
    "    choice = input(\"Enter choice (1/2/3/4): \")\n",
    "\n",
    "    num1 = float(input(\"Enter first number: \"))\n",
    "    num2 = float(input(\"Enter second number: \"))\n",
    "\n",
    "    if choice == '1':\n",
    "        print(\"Result:\", add(num1, num2))\n",
    "    elif choice == '2':\n",
    "        print(\"Result:\", subtract(num1, num2))\n",
    "    elif choice == '3':\n",
    "        print(\"Result:\", multiply(num1, num2))\n",
    "    elif choice == '4':\n",
    "        print(\"Result:\", divide(num1, num2))\n",
    "    else:\n",
    "        print(\"Invalid input\")\n",
    "\n",
    "calculator()\n"
   ]
  },
  {
   "cell_type": "code",
   "execution_count": null,
   "id": "416344ea",
   "metadata": {},
   "outputs": [],
   "source": [
    "# return type function:  with the example of calculation "
   ]
  },
  {
   "cell_type": "code",
   "execution_count": 6,
   "id": "686e066c",
   "metadata": {},
   "outputs": [
    {
     "name": "stdout",
     "output_type": "stream",
     "text": [
      "select operator :\n",
      "1. add\n",
      "2. subtract :\n",
      "3.multiply\n",
      "4.divide:\n",
      "enter the number 1,2,3,4 for select arthmatic operation:1\n",
      "enter the first number=2\n",
      "enter hte second number=3\n",
      "result5.0\n"
     ]
    }
   ],
   "source": [
    "def add(x,y):\n",
    "    return x+y\n",
    "def sub(x,y):\n",
    "    return x-y\n",
    "def mul(x,y):\n",
    "    return x*y\n",
    "def div(x,y):\n",
    "    return x/y\n",
    "def calculator():\n",
    "    print('select operator :')\n",
    "    print('1. add')\n",
    "    print('2. subtract :')\n",
    "    print('3.multiply')\n",
    "    print('4.divide:')\n",
    "    \n",
    "    chose=int(input('enter the number 1,2,3,4 for select arthmatic operation:'))\n",
    "    num1=float(input('enter the first number='))\n",
    "    num2=float(input('enter hte second number='))\n",
    "    if chose==1:\n",
    "        print(f'result{add(num1,num2)}')\n",
    "    if chose== 2:\n",
    "        print(f'result{sub(num,num2)}')\n",
    "    if chose==3:\n",
    "        print(f'result{mul(num1,num2)}')\n",
    "    if chose==4:\n",
    "        print(f'result{div(num1,num2)}')\n",
    "    else:\n",
    "        print('invalid')\n",
    "calculator()              \n",
    "    \n",
    "              "
   ]
  },
  {
   "cell_type": "markdown",
   "id": "86d0d6d9",
   "metadata": {},
   "source": [
    "### "
   ]
  },
  {
   "cell_type": "code",
   "execution_count": 7,
   "id": "6dcb6a02",
   "metadata": {},
   "outputs": [
    {
     "name": "stdout",
     "output_type": "stream",
     "text": [
      "enter the y\n",
      "enter the y\n",
      "enter the t\n"
     ]
    }
   ],
   "source": [
    "\n",
    "# recursive function\n",
    "def hello():\n",
    "        x=input('enter the ')\n",
    "        if x=='y':\n",
    "            hello()\n",
    "hello()            \n",
    "           "
   ]
  },
  {
   "cell_type": "code",
   "execution_count": null,
   "id": "df6ad7a5",
   "metadata": {},
   "outputs": [],
   "source": [
    "# recursive function  with written type\n",
    "def add(x,y):\n",
    "    return x+y\n",
    "def sub(x,y):\n",
    "    return x-y\n",
    "def mul(x,y):\n",
    "    return x*y\n",
    "def div(x,y):\n",
    "    return x/y\n",
    "def calculator():\n",
    "    print('select operator :')\n",
    "    print('1. add')\n",
    "    print('2. subtract :')\n",
    "    print('3.multiply')\n",
    "    print('4.divide:')\n",
    "    \n",
    "    chose=int(input('enter the number 1,2,3,4 for select arthmatic operation:'))\n",
    "    num1=float(input('enter the first number='))\n",
    "    num2=float(input('enter hte second number='))\n",
    "    if chose==1:\n",
    "        print(f'result{add(num1,num2)}')\n",
    "    if chose== 2:\n",
    "        print(f'result{sub(num,num2)}')\n",
    "    if chose==3:\n",
    "        print(f'result{mul(num1,num2)}')\n",
    "    if chose==4:\n",
    "        print(f'result{div(num1,num2)}')\n",
    "    else:\n",
    "        print ('invalid')\n",
    "    # for recursive function \n",
    "    x= input('enter y for more call ')# for recursive\n",
    "    calculator()\n",
    "calculator()              \n",
    "    \n",
    "              "
   ]
  },
  {
   "cell_type": "markdown",
   "id": "f0c3d946",
   "metadata": {},
   "source": [
    "# recursive functin call repeatidely "
   ]
  },
  {
   "cell_type": "markdown",
   "id": "972e8e17",
   "metadata": {},
   "source": [
    "# lambda function\n",
    "- anynomous (i.e funcgtion having no name)\n",
    "- syntax: lambda <argument>:<operation>.\n",
    "- used for simple problem\n",
    "- only for short ,single\n",
    "- allow diff arg\n",
    "- faster then ordinary fun\n",
    "-     "
   ]
  },
  {
   "cell_type": "code",
   "execution_count": 2,
   "id": "7ea60714",
   "metadata": {},
   "outputs": [
    {
     "name": "stdout",
     "output_type": "stream",
     "text": [
      "4\n"
     ]
    }
   ],
   "source": [
    "x=lambda a:a*2\n",
    "print(x(2))"
   ]
  },
  {
   "cell_type": "code",
   "execution_count": 3,
   "id": "f00b8f1d",
   "metadata": {},
   "outputs": [
    {
     "name": "stdout",
     "output_type": "stream",
     "text": [
      "6\n"
     ]
    }
   ],
   "source": [
    "x=lambda l,b:l*b\n",
    "print(x(2,3))"
   ]
  },
  {
   "cell_type": "markdown",
   "id": "6e52b127",
   "metadata": {},
   "source": [
    "# filter function ( imp)\n",
    "#- filter the list \n",
    "#- syntax: list,or,dictory(lambda(<argument>:<condition>,<arr>))"
   ]
  },
  {
   "cell_type": "code",
   "execution_count": 7,
   "id": "45043539",
   "metadata": {},
   "outputs": [
    {
     "data": {
      "text/plain": [
       "[0, 2, 4]"
      ]
     },
     "execution_count": 7,
     "metadata": {},
     "output_type": "execute_result"
    }
   ],
   "source": [
    "a=[0,1,2,3,4,5]\n",
    "list(filter(lambda x: x%2==0,a))\n",
    "# also used in string not only int"
   ]
  },
  {
   "cell_type": "code",
   "execution_count": 13,
   "id": "2123db3c",
   "metadata": {},
   "outputs": [
    {
     "data": {
      "text/plain": [
       "['apple', 'fish']"
      ]
     },
     "execution_count": 13,
     "metadata": {},
     "output_type": "execute_result"
    }
   ],
   "source": [
    "a=['apple',\"Banana\",'Mango','fish']\n",
    "list(filter(lambda x:x.islower(),a))# islower function to see the lower and uper data # o/p:['apple', 'fish']\n",
    "\n",
    "#list(filter(lambda x:not x.islower(),a)) # for complement of this  # o/p:['Banana', 'Mango']"
   ]
  },
  {
   "cell_type": "code",
   "execution_count": 11,
   "id": "5e16295f",
   "metadata": {},
   "outputs": [
    {
     "data": {
      "text/plain": [
       "['Banana', 'Mango']"
      ]
     },
     "execution_count": 11,
     "metadata": {},
     "output_type": "execute_result"
    }
   ],
   "source": [
    "list(filter(lambda x:not x.islower(),a))"
   ]
  },
  {
   "cell_type": "markdown",
   "id": "63d25a1a",
   "metadata": {},
   "source": [
    "# map function()\n",
    "# list(map(lambda<argument>:<operation>,<arr>))"
   ]
  },
  {
   "cell_type": "code",
   "execution_count": 14,
   "id": "1771f06d",
   "metadata": {},
   "outputs": [
    {
     "data": {
      "text/plain": [
       "['apple', 'banana', 'dj', 'pk']"
      ]
     },
     "execution_count": 14,
     "metadata": {},
     "output_type": "execute_result"
    }
   ],
   "source": [
    "a=['apple','Banana','dj','PK']\n",
    "list(map(lambda x: x.lower(),a))"
   ]
  },
  {
   "cell_type": "code",
   "execution_count": null,
   "id": "4e5cf54a",
   "metadata": {},
   "outputs": [],
   "source": []
  },
  {
   "cell_type": "markdown",
   "id": "7ba02653",
   "metadata": {},
   "source": [
    "# #math function\n",
    "- used when all math function foe trigonomatric ,log ,exp\n",
    "- at frist impoet math"
   ]
  },
  {
   "cell_type": "code",
   "execution_count": 17,
   "id": "683d05a0",
   "metadata": {},
   "outputs": [
    {
     "name": "stdout",
     "output_type": "stream",
     "text": [
      "3.141592653589793\n",
      "3.141592653589793\n"
     ]
    }
   ],
   "source": [
    "import math as m\n",
    "print(m.pi)\n",
    "print(m.e)\n",
    "print(m.)"
   ]
  },
  {
   "cell_type": "code",
   "execution_count": 18,
   "id": "c24317e5",
   "metadata": {},
   "outputs": [],
   "source": [
    "# home work for math function\n"
   ]
  },
  {
   "cell_type": "code",
   "execution_count": 23,
   "id": "92f28668",
   "metadata": {},
   "outputs": [
    {
     "name": "stdout",
     "output_type": "stream",
     "text": [
      "enter name=dhanananjay\n",
      "enter age23\n",
      "hello i am dhanananjay. iam from 23.\n"
     ]
    }
   ],
   "source": [
    "# \n",
    "def info(data):\n",
    "    print(f\"hello i am {data['name']}. iam from {data['age']}.\") # dictionary value pair\n",
    " #   pass\n",
    "name=input('enter name=')\n",
    "age=int(input('enter age'))\n",
    "d={'name':name,'age':age}# key value pair\n",
    "info(d)"
   ]
  },
  {
   "cell_type": "code",
   "execution_count": 22,
   "id": "bfefe08f",
   "metadata": {},
   "outputs": [
    {
     "ename": "IndentationError",
     "evalue": "expected an indented block (1167753142.py, line 1)",
     "output_type": "error",
     "traceback": [
      "\u001b[1;36m  Cell \u001b[1;32mIn[22], line 1\u001b[1;36m\u001b[0m\n\u001b[1;33m    def info():\u001b[0m\n\u001b[1;37m               ^\u001b[0m\n\u001b[1;31mIndentationError\u001b[0m\u001b[1;31m:\u001b[0m expected an indented block\n"
     ]
    }
   ],
   "source": [
    "def info():\n",
    "    x=data[name]\n",
    "    y=data[age]"
   ]
  },
  {
   "cell_type": "code",
   "execution_count": null,
   "id": "5dd7a663",
   "metadata": {},
   "outputs": [],
   "source": []
  }
 ],
 "metadata": {
  "kernelspec": {
   "display_name": "Python 3 (ipykernel)",
   "language": "python",
   "name": "python3"
  },
  "language_info": {
   "codemirror_mode": {
    "name": "ipython",
    "version": 3
   },
   "file_extension": ".py",
   "mimetype": "text/x-python",
   "name": "python",
   "nbconvert_exporter": "python",
   "pygments_lexer": "ipython3",
   "version": "3.9.13"
  }
 },
 "nbformat": 4,
 "nbformat_minor": 5
}
