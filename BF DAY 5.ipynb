{
 "cells": [
  {
   "cell_type": "markdown",
   "id": "7b8be4fa",
   "metadata": {},
   "source": [
    "# git branch :-list the branch and highlight\n",
    "- git branch < branch_name>:create new branch\n",
    "- git checkout branch  "
   ]
  },
  {
   "cell_type": "code",
   "execution_count": null,
   "id": "68c00e33",
   "metadata": {},
   "outputs": [],
   "source": [
    "a=1\n",
    "b=2\n",
    "print(a+b)\n"
   ]
  }
 ],
 "metadata": {
  "kernelspec": {
   "display_name": "Python 3 (ipykernel)",
   "language": "python",
   "name": "python3"
  },
  "language_info": {
   "codemirror_mode": {
    "name": "ipython",
    "version": 3
   },
   "file_extension": ".py",
   "mimetype": "text/x-python",
   "name": "python",
   "nbconvert_exporter": "python",
   "pygments_lexer": "ipython3",
   "version": "3.9.13"
  }
 },
 "nbformat": 4,
 "nbformat_minor": 5
}
