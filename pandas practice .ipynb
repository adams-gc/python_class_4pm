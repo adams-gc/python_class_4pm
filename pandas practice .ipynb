{
 "cells": [
  {
   "cell_type": "markdown",
   "id": "fb1f2d61",
   "metadata": {},
   "source": [
    "# # modes:\n",
    "- create ->x :file=open('data.csv','x')\n",
    "- read->r: file=open('data.cas','r')\n",
    "- write ->w: file=open('data.csv','w')\n",
    "- append ->a: file=open('data.csv','a')\n",
    "\n",
    "\n",
    "# # for read:\n",
    "-   file=open('data.csv','r')\n",
    "-    data=filr.read()\n",
    "- file.close() # for close the file at the end\n",
    "- type(daata)\n",
    "- data.split('\\n') # for spelit the data\n",
    "- data.split('\\n')[0] # for index the split data\n",
    "\n",
    "\n",
    "# # writhe the data:\n",
    "- file=open('data1.csv'or also data.txt also,'w')\n"
   ]
  },
  {
   "cell_type": "code",
   "execution_count": null,
   "id": "05529452",
   "metadata": {},
   "outputs": [],
   "source": []
  }
 ],
 "metadata": {
  "kernelspec": {
   "display_name": "Python 3 (ipykernel)",
   "language": "python",
   "name": "python3"
  },
  "language_info": {
   "codemirror_mode": {
    "name": "ipython",
    "version": 3
   },
   "file_extension": ".py",
   "mimetype": "text/x-python",
   "name": "python",
   "nbconvert_exporter": "python",
   "pygments_lexer": "ipython3",
   "version": "3.9.13"
  }
 },
 "nbformat": 4,
 "nbformat_minor": 5
}
