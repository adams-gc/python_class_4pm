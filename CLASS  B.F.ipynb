{
 "cells": [
  {
   "cell_type": "code",
   "execution_count": 1,
   "id": "79a6f932",
   "metadata": {},
   "outputs": [
    {
     "name": "stdout",
     "output_type": "stream",
     "text": [
      "[1, 2, 3, 4, 5]\n"
     ]
    },
    {
     "data": {
      "text/plain": [
       "[1, 2, 3, 4, 5]"
      ]
     },
     "execution_count": 1,
     "metadata": {},
     "output_type": "execute_result"
    }
   ],
   "source": [
    "# sort array\n",
    "a=[1,2,3,4,5]\n",
    "a.sort()# ascending order short\n",
    "print(a)\n",
    "a\n",
    "a.sort(reverse=True)#decending order\n",
    "# reverse fun for only reverse\n",
    "a.reverse()\n"
   ]
  },
  {
   "cell_type": "code",
   "execution_count": 2,
   "id": "0f4c8036",
   "metadata": {},
   "outputs": [
    {
     "data": {
      "text/plain": [
       "[1, 2, 3, 4, 5]"
      ]
     },
     "execution_count": 2,
     "metadata": {},
     "output_type": "execute_result"
    }
   ],
   "source": [
    "# built in function\n",
    "# len():provide length of iterable eg list etc onlycount,1,2 \n",
    "#sum(): gives sum of numbers of any iterative\n",
    "a=[1,2,3,4,5]\n",
    "result=sum(a)\n",
    "a"
   ]
  },
  {
   "cell_type": "markdown",
   "id": "cac29c39",
   "metadata": {},
   "source": [
    "# boolean data\n",
    "\n"
   ]
  },
  {
   "cell_type": "code",
   "execution_count": null,
   "id": "4df85413",
   "metadata": {},
   "outputs": [],
   "source": [
    "# t and false"
   ]
  },
  {
   "cell_type": "code",
   "execution_count": 4,
   "id": "9f9a95dc",
   "metadata": {},
   "outputs": [
    {
     "name": "stdout",
     "output_type": "stream",
     "text": [
      "1\n",
      "0\n",
      "True\n"
     ]
    }
   ],
   "source": [
    "# opreation that gives boolean data\n",
    "#1 logical\n",
    "#relational\n",
    "#membership\n",
    "#identity\n",
    "# boolean are immutable data type \n",
    "a=True+False\n",
    "print(a)\n",
    "print(70*False)\n",
    "\n",
    "\n",
    "# all the non empety data like list ,touple srt etc \n",
    "a=1\n",
    "b=-1\n",
    "c={'dh':'gc'}\n",
    "# bool()\n",
    "print(bool(a))"
   ]
  },
  {
   "cell_type": "code",
   "execution_count": 10,
   "id": "32859bd3",
   "metadata": {},
   "outputs": [
    {
     "ename": "SyntaxError",
     "evalue": "invalid syntax (3641594314.py, line 6)",
     "output_type": "error",
     "traceback": [
      "\u001b[1;36m  Cell \u001b[1;32mIn[10], line 6\u001b[1;36m\u001b[0m\n\u001b[1;33m    e= set{}\u001b[0m\n\u001b[1;37m          ^\u001b[0m\n\u001b[1;31mSyntaxError\u001b[0m\u001b[1;31m:\u001b[0m invalid syntax\n"
     ]
    }
   ],
   "source": [
    "# false\n",
    "a=0\n",
    "b=0.0\n",
    "c=[]\n",
    "d=()\n",
    "e= set{}\n",
    "f={}\n",
    "g=''\n",
    "print(bool(a,b))\n",
    "a=4\n",
    "if a:\n",
    "    print('a is non  zero') \n",
    "    \n"
   ]
  },
  {
   "cell_type": "code",
   "execution_count": 7,
   "id": "ba5a3214",
   "metadata": {},
   "outputs": [],
   "source": [
    "# string :are immutable data type\n",
    "# i.e seq. of char. like single ,double and tripal cuotes \"\",''\"\"..\n",
    "a=str()# str is built in function to create str\n",
    "a\n",
    "a=''\n",
    "a=\"\"\"\"\"\""
   ]
  },
  {
   "cell_type": "code",
   "execution_count": 9,
   "id": "12ab909f",
   "metadata": {},
   "outputs": [
    {
     "data": {
      "text/plain": [
       "'dhananjay'"
      ]
     },
     "execution_count": 9,
     "metadata": {},
     "output_type": "execute_result"
    }
   ],
   "source": [
    "# non empty string\n",
    "a=str('dhananjay')\n",
    "# werong typr object error b=str['dj','gc']\n",
    "a='hello'\n",
    "b=\"dj\"\n",
    "c=\"\"\" gc\"\"\"\n",
    "print(bool(c))\n",
    "#\n",
    "\n"
   ]
  },
  {
   "cell_type": "code",
   "execution_count": 18,
   "id": "26af868e",
   "metadata": {},
   "outputs": [
    {
     "name": "stdout",
     "output_type": "stream",
     "text": [
      "hell\n",
      "llo\n",
      "el \n"
     ]
    }
   ],
   "source": [
    "# accessing str element simelar to list element.ie indexing and slicing\n",
    "d='hello dhananjagy gc'\n",
    "'''# indexing negati ve and positive\n",
    "print(d[-4])\n",
    "print(d[3])'''\n",
    "# slicing\n",
    "print(d[:4])\n",
    "print(d[2:5])\n",
    "print(d[1:6:2])# trident datatype(star:end:stepesjum)\n"
   ]
  },
  {
   "cell_type": "markdown",
   "id": "4b1689df",
   "metadata": {},
   "source": [
    "# install git\n"
   ]
  },
  {
   "cell_type": "markdown",
   "id": "102790bc",
   "metadata": {},
   "source": [
    "str method"
   ]
  },
  {
   "cell_type": "markdown",
   "id": "77e40c97",
   "metadata": {},
   "source": [
    "#-capatalize()\n",
    "#-title()\n",
    "#-upper(0)\n",
    "#-lower()\n",
    "#-split()\n",
    "#-join()"
   ]
  },
  {
   "cell_type": "code",
   "execution_count": 39,
   "id": "510edb2a",
   "metadata": {},
   "outputs": [
    {
     "name": "stdout",
     "output_type": "stream",
     "text": [
      "dhananjay\n"
     ]
    },
    {
     "data": {
      "text/plain": [
       "'Dhananjay'"
      ]
     },
     "execution_count": 39,
     "metadata": {},
     "output_type": "execute_result"
    }
   ],
   "source": [
    "a='dhananjay'\n",
    "r=a.capitalize()\n",
    "print(a)\n",
    "r# for capitalize\n"
   ]
  },
  {
   "cell_type": "code",
   "execution_count": 25,
   "id": "5b6330fb",
   "metadata": {},
   "outputs": [
    {
     "data": {
      "text/plain": [
       "['he', '', 'o']"
      ]
     },
     "execution_count": 25,
     "metadata": {},
     "output_type": "execute_result"
    }
   ],
   "source": [
    "# split()\n",
    "a='hello'\n",
    "#r=a.split()\n",
    "#r\n",
    "# split take data as alist\n",
    "r=a.split('l')\n",
    "r"
   ]
  },
  {
   "cell_type": "code",
   "execution_count": 26,
   "id": "2d168486",
   "metadata": {},
   "outputs": [
    {
     "name": "stdout",
     "output_type": "stream",
     "text": [
      "Hello World\n",
      "Hello world\n",
      "HELLO WORLD\n",
      "hello world\n",
      "['hello', 'world']\n",
      "['hell', ' w', 'rld']\n",
      "Python is high level language\n",
      "Python + is + high + level + language\n"
     ]
    }
   ],
   "source": [
    "# join\n",
    "d=['dhananjay','gc']\n",
    "r=' '.join(d)\n",
    "# r=d.jion(d)ie wrong\n",
    "# capitalize()\n",
    "# title()\n",
    "# upper()\n",
    "# lower()\n",
    "# split()\n",
    "# join()\n",
    "\n",
    "\n",
    "# title()\n",
    "a = \"hello world\"\n",
    "result = a.title()\n",
    "print(result)  # Hello World\n",
    "\n",
    "# capitalize()\n",
    "a = \"hello world\"\n",
    "result = a.capitalize()\n",
    "print(result)  # Hello world\n",
    "\n",
    "\n",
    "# upper()\n",
    "result = a.upper()\n",
    "print(result)  # HELLO WORLD\n",
    "\n",
    "# lower()\n",
    "a = \"Hello World\"\n",
    "result = a.lower()\n",
    "print(result)  # hello world\n",
    "\n",
    "\n",
    "# split()\n",
    "a = \"hello world\"\n",
    "result = a.split()\n",
    "print(result)  # [\"hello\", \"world\"]\n",
    "\n",
    "result = a.split(\"o\")\n",
    "print(result)  # [\"hell\", \" w\", \"rld\"]\n",
    "\n",
    "\n",
    "# join()\n",
    "data = [\"Python\", \"is\", \"high\", \"level\", \"language\"]\n",
    "result = \" \".join(data)\n",
    "# result = data.join(\" \")  # This is wrong because list doesnt have join method\n",
    "print(result)  # Python is high level language\n",
    "\n",
    "result = \" + \".join(data)\n",
    "print(result)"
   ]
  },
  {
   "cell_type": "code",
   "execution_count": 29,
   "id": "1b28ba03",
   "metadata": {},
   "outputs": [
    {
     "name": "stdout",
     "output_type": "stream",
     "text": [
      "olleh\n"
     ]
    },
    {
     "data": {
      "text/plain": [
       "\"'# for str ie immutable so take error\\nd='dhananjay'\\nd[2]='d'\\nd\""
      ]
     },
     "execution_count": 29,
     "metadata": {},
     "output_type": "execute_result"
    }
   ],
   "source": [
    "# \n",
    "d='hello'\n",
    "print(d[::-1])# reverse str\n",
    "d=[1,2,3,4]#[1,2,9,4]\n",
    "d[2]=9\n",
    "d\n",
    "''''# for str ie immutable so take error\n",
    "d='dhananjay'\n",
    "d[2]='d'\n",
    "d'''\n"
   ]
  },
  {
   "cell_type": "code",
   "execution_count": 31,
   "id": "a08b73a1",
   "metadata": {},
   "outputs": [
    {
     "data": {
      "text/plain": [
       "'hello dj'"
      ]
     },
     "execution_count": 31,
     "metadata": {},
     "output_type": "execute_result"
    }
   ],
   "source": [
    "# concatanation operation (+)\n",
    "a='hello '\n",
    "b='dj'\n",
    "a+b\n",
    "#"
   ]
  },
  {
   "cell_type": "code",
   "execution_count": 32,
   "id": "b4437c21",
   "metadata": {},
   "outputs": [
    {
     "name": "stdout",
     "output_type": "stream",
     "text": [
      "hellohellohello\n"
     ]
    }
   ],
   "source": [
    "# reperatation operation\n",
    "print('hello'*3)"
   ]
  },
  {
   "cell_type": "code",
   "execution_count": 35,
   "id": "634cd538",
   "metadata": {},
   "outputs": [
    {
     "name": "stdout",
     "output_type": "stream",
     "text": [
      "True\n",
      "False\n",
      "True\n",
      "True\n"
     ]
    }
   ],
   "source": [
    "# membership operator('in',and'not in)\n",
    "# Membership Operation (\"in\" and \"not in\")\n",
    "print(\"h\" in \"hello\")  # True\n",
    "print(\"o\" not in \"hello\")  # False\n",
    "print('e'in 'hello')\n",
    "print('d'not in 'hello')"
   ]
  },
  {
   "cell_type": "code",
   "execution_count": null,
   "id": "afffb182",
   "metadata": {},
   "outputs": [],
   "source": []
  }
 ],
 "metadata": {
  "kernelspec": {
   "display_name": "Python 3 (ipykernel)",
   "language": "python",
   "name": "python3"
  },
  "language_info": {
   "codemirror_mode": {
    "name": "ipython",
    "version": 3
   },
   "file_extension": ".py",
   "mimetype": "text/x-python",
   "name": "python",
   "nbconvert_exporter": "python",
   "pygments_lexer": "ipython3",
   "version": "3.9.13"
  }
 },
 "nbformat": 4,
 "nbformat_minor": 5
}
