{
 "cells": [
  {
   "cell_type": "code",
   "execution_count": 2,
   "id": "0525e238",
   "metadata": {},
   "outputs": [
    {
     "name": "stdout",
     "output_type": "stream",
     "text": [
      "30\n",
      "True\n",
      "False\n",
      "3\n"
     ]
    }
   ],
   "source": [
    "# Create a dictionary\n",
    "my_dict = {'name': 'Alice', 'age': 30, 'city': 'New York'}\n",
    "\n",
    "# Access a value in the dictionary\n",
    "print(my_dict['age'])  # Alice\n",
    "\n",
    "# Add a key-value pair to the dictionary\n",
    "my_dict['country'] = 'USA'\n",
    "\n",
    "# Remove a key-value pair from the dictionary\n",
    "del my_dict['age']\n",
    "\n",
    "# Check if a key is in the dictionary\n",
    "print('city' in my_dict)  # True\n",
    "print('age' in my_dict)   # False\n",
    "\n",
    "# Get the number of key-value pairs in the dictionary\n",
    "print(len(my_dict))  # 2"
   ]
  },
  {
   "cell_type": "code",
   "execution_count": 21,
   "id": "69b765a4",
   "metadata": {},
   "outputs": [
    {
     "name": "stdout",
     "output_type": "stream",
     "text": [
      "set() {} {1, 2, 3} {'1', 2, 'apple'}\n",
      "{1, 2}\n",
      "{1, 2, 3} {1, 2, 3}\n",
      "{4, 5} {4, 5}\n",
      "{1, 2, 3, 4, 5, 6, 7, 8} {1, 2, 3, 4, 5, 6, 7, 8}\n",
      "{1, 2, 3, 4, 5}\n",
      "{4, 5, 6, 7, 8}\n",
      "{1, 2, 3, 6, 7, 8}\n",
      "carrot operation {1, 2, 3, 6, 7, 8}\n",
      "None\n",
      "{1, 2, 3, 6, 7, 8}\n",
      "{4, 5, 6, 7, 8}\n"
     ]
    }
   ],
   "source": [
    "# set is mutable data type but it's element is of set must be immutable\n",
    "# create an impety set\n",
    "d=set()\n",
    "d1={}\n",
    "# creating non empity set\n",
    "a={1,2,3}\n",
    "b={'1',2,'apple'}\n",
    "print(d,d1,a,b)\n",
    "#c={1,2,[4,5]} i.e invalid\n",
    "# order of set is dosn't matter\n",
    "print({1,2})=={2,1}\n",
    "# diffrence\n",
    "s1={1,2,3,4,5}\n",
    "s2={4,5,6,7,8}\n",
    "r=s1.difference(s2)\n",
    "print(r,s1-s2)# both are same\n",
    "#intersection\n",
    "r=s1.intersection(s2)\n",
    "print(r,s1&s2)# s1.intersection ans s1& s2 are same\n",
    "# unoion\n",
    "r=s1.union(s2)\n",
    "print(r,s1 | s2)# s1.union and s1|s2\n",
    "# symmetric_diffrence\n",
    "r=s1.symmetric_difference(s2)\n",
    "print(s1)\n",
    "print(s2)\n",
    "print(r)\n",
    "print('carrot operation',s1^s2)\n",
    "r=s1.symmetric_difference_update(s2)\n",
    "print(r)\n",
    "print(s1)\n",
    "print(s2)"
   ]
  },
  {
   "cell_type": "code",
   "execution_count": 22,
   "id": "d62f2157",
   "metadata": {},
   "outputs": [
    {
     "name": "stdout",
     "output_type": "stream",
     "text": [
      "('a', 'b', 'c', 'd', 'e')\n",
      "('c', 'd', 'e', 'f', 'g', 'h', 'i')\n",
      "()\n",
      "('h', 'i', 'j')\n",
      "('a', 'b', 'c', 'd', 'e', 'f')\n",
      "('b', 'c', 'd', 'e', 'f', 'g', 'h')\n",
      "()\n",
      "('c', 'd', 'e', 'f', 'g', 'h')\n",
      "('h', 'i', 'j')\n",
      "('a', 'b', 'c', 'd', 'e', 'f', 'g', 'h')\n",
      "('c', 'e', 'g', 'i')\n"
     ]
    }
   ],
   "source": [
    "# sir\n",
    "data = (\"a\", \"b\", \"c\", \"d\", \"e\", \"f\", \"g\", \"h\", \"i\", \"j\")\n",
    "print(data[:5])\n",
    "print(data[2:9])\n",
    "print(data[8:3])\n",
    "print(data[7:])\n",
    "print(data[0:6])\n",
    "print(data[-9:-2])\n",
    "print(data[-3:-8])\n",
    "print(data[2:-2])\n",
    "print(data[-3:])\n",
    "print(data[:-2])\n",
    "print(data[2:9:2])"
   ]
  },
  {
   "cell_type": "code",
   "execution_count": 1,
   "id": "9a85e4e7",
   "metadata": {},
   "outputs": [
    {
     "name": "stdout",
     "output_type": "stream",
     "text": [
      "<class 'int'>\n",
      "<class 'tuple'>\n",
      "(1, 2, 3)\n",
      "1\n",
      "2\n",
      "3\n",
      "3\n",
      "2\n",
      "3\n",
      "2\n"
     ]
    }
   ],
   "source": [
    "a = 1\n",
    "print(type(a))  # int\n",
    "\n",
    "a = 1,\n",
    "print(type(a))  # tuple\n",
    "\n",
    "a = 1, 2, 3  # => This is tuple packing\n",
    "print(a)  # (1, 2, 3)\n",
    "\n",
    "a, b, c = 1, 2, 3\n",
    "print(a)  # 1\n",
    "print(b)  # 2\n",
    "print(c)  # 3\n",
    "\n",
    "\n",
    "# WAP to swap two values\n",
    "a = 2\n",
    "b = 3\n",
    "\n",
    "temp = a\n",
    "a = b\n",
    "b = temp\n",
    "\n",
    "print(a)  # 3\n",
    "print(b)  # 2\n",
    "\n",
    "\n",
    "# Do the same task using tuple packing-unpacking\n",
    "\n",
    "a = 2\n",
    "b = 3\n",
    "\n",
    "a, b = b, a  # (3, 2)\n",
    "print(a)  # 3\n",
    "print(b)  # 2\n",
    "\n",
    "\n",
    "# Possible errors in tuple packing-unpacking\n",
    "\n",
    "# a, b = 1, 2, 3  # Error\n",
    "# # Too many values to unpack\n",
    "\n",
    "# a, b, c = 1, 2  # Error\n",
    "# Not enough values to unpack\n",
    "\n",
    "# Number of variables in LHS must be same to values at RHS"
   ]
  },
  {
   "cell_type": "code",
   "execution_count": null,
   "id": "ce95e0cd",
   "metadata": {},
   "outputs": [],
   "source": []
  },
  {
   "cell_type": "code",
   "execution_count": null,
   "id": "d2510101",
   "metadata": {},
   "outputs": [],
   "source": []
  }
 ],
 "metadata": {
  "kernelspec": {
   "display_name": "Python 3 (ipykernel)",
   "language": "python",
   "name": "python3"
  },
  "language_info": {
   "codemirror_mode": {
    "name": "ipython",
    "version": 3
   },
   "file_extension": ".py",
   "mimetype": "text/x-python",
   "name": "python",
   "nbconvert_exporter": "python",
   "pygments_lexer": "ipython3",
   "version": "3.9.13"
  }
 },
 "nbformat": 4,
 "nbformat_minor": 5
}
