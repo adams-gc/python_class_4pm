{
 "cells": [
  {
   "cell_type": "markdown",
   "id": "3028af2c",
   "metadata": {},
   "source": [
    "# EWAP to prompt the user for hours and rate per hour using input to compute gross pay. Pay the hourly rate for the hours up to 40 and 1.5 times the hourly rate for all hours worked above 40 hours. \n",
    "Use 45 hours and a rate of 10.50 per hour to test the program (the pay should be 498.75). You should use input to read a string and float() to convert the string to a number."
   ]
  },
  {
   "cell_type": "markdown",
   "id": "e77bc5da",
   "metadata": {},
   "source": [
    "1 user input in /hr and using input"
   ]
  },
  {
   "cell_type": "code",
   "execution_count": 30,
   "id": "da75a5e1",
   "metadata": {
    "scrolled": true
   },
   "outputs": [
    {
     "name": "stdout",
     "output_type": "stream",
     "text": [
      "Enter the hours: 4\n",
      "Enter the rate: 1.5\n",
      "Total pay: -21.0\n"
     ]
    }
   ],
   "source": [
    "'''hr=45\n",
    "rate=10\n",
    "total=40*10+5*10*1.5\n",
    "hr=print(int(input(\"enter the hours\")))\n",
    "rate=print(float(input(\"enter the rate\")))\n",
    "if hr >= 40:\n",
    "    gross_pay=40*rate+((hr-40)*rate*1.5)\n",
    "else:\n",
    "    print(f\"totle pay :{gross_pay}\")\n",
    "    '''\n",
    "\n",
    "\n",
    "hr = int(input(\"Enter the hours: \"))\n",
    "rate = float(input(\"Enter the rate: \"))\n",
    "\n",
    "if hr <= 40:\n",
    "    gross_pay = 40 * rate + ((hr - 40) * rate * 1.5)\n",
    "else:\n",
    "    gross_pay = hr * rate\n",
    "\n",
    "print(f\"Total pay: {gross_pay}\")\n",
    "\n",
    "\n",
    "\n"
   ]
  },
  {
   "cell_type": "code",
   "execution_count": 24,
   "id": "74d5bd0a",
   "metadata": {},
   "outputs": [
    {
     "name": "stdout",
     "output_type": "stream",
     "text": [
      "Enter total hour 40\n",
      "Enter rate per hour 1.5\n",
      "total pay is 60.0\n"
     ]
    }
   ],
   "source": [
    "\"\"\"\n",
    "WAP to prompt the user for hours and rate per hour using input to compute gross pay.\n",
    "Pay the hourly rate for the hours up to 40 and 1.5 times the hourly rate for all hours worked above 40 hours.\n",
    "\n",
    "Use 45 hours and a rate of 10.50 per hour to test the program (the pay should be 498.75).\n",
    "You should use input to read a string and float() to convert the string to a number.\n",
    "\n",
    "\"\"\"\n",
    "\n",
    "total_hrs = float(input(\"Enter total hour \"))\n",
    "rate = float(input(\"Enter rate per hour \"))\n",
    "\n",
    "if total_hrs <= 40:\n",
    "    total_pay = total_hrs * rate\n",
    "else:\n",
    "    ot_hrs = total_hrs - 40\n",
    "    ot_pay = ot_hrs * rate * 1.5\n",
    "    normal_pay = rate * 40\n",
    "    total_pay = ot_pay + normal_pay\n",
    "\n",
    "print(f\"total pay is {total_pay}\")"
   ]
  },
  {
   "cell_type": "markdown",
   "id": "2984f8a9",
   "metadata": {},
   "source": [
    "nasted if"
   ]
  },
  {
   "cell_type": "code",
   "execution_count": 7,
   "id": "f108d773",
   "metadata": {},
   "outputs": [
    {
     "name": "stdout",
     "output_type": "stream",
     "text": [
      "c is greater then b\n"
     ]
    }
   ],
   "source": [
    "a=1\n",
    "b=3\n",
    "c=4\n",
    "if c>a:\n",
    "    if c>b:\n",
    "        print('c is greater then b')\n",
    "    else:\n",
    "        print('c is not greater')\n",
    "else:\n",
    "    print('a is greater then c')\n",
    "    \n",
    "    '''\n",
    "    # \"Nested if\" is also possible in python\n",
    "\n",
    "\n",
    "a = 1\n",
    "b = 2\n",
    "c = 3\n",
    "\n",
    "if c > a:\n",
    "    if c > b:\n",
    "        print(\"c is the greatest\")\n",
    "    else:\n",
    "        print(\"c is not the greatest\")\n",
    "else:\n",
    "    print(\"a is greater than c\")'''\n",
    "    \n",
    "    "
   ]
  },
  {
   "cell_type": "markdown",
   "id": "d1e731bd",
   "metadata": {},
   "source": [
    "# loop for repeated task\n",
    "- also called iteration\n",
    "# there are 2 type of loop\n",
    "- for loop:\n",
    "- while loop\n",
    "- but do while loop is not mention"
   ]
  },
  {
   "cell_type": "code",
   "execution_count": 11,
   "id": "f2643938",
   "metadata": {},
   "outputs": [
    {
     "name": "stdout",
     "output_type": "stream",
     "text": [
      "a\n",
      "e\n",
      "i\n",
      "o\n",
      "u\n"
     ]
    }
   ],
   "source": [
    "# for loop in python:i.e used with iterables(seq.data )in py\n",
    "\n",
    "\n",
    "v=['a','e','i','o','u'] \n",
    "for i in v:# traversing in v ,syntax:[for _item/your name_ in _data type ]\n",
    "    print(i)"
   ]
  },
  {
   "cell_type": "code",
   "execution_count": 34,
   "id": "633d6e45",
   "metadata": {},
   "outputs": [
    {
     "name": "stdout",
     "output_type": "stream",
     "text": [
      "[0, 1, 2, 3, 4, 5, 6, 7, 8, 9]\n"
     ]
    }
   ],
   "source": [
    "# range():i.e builting function to gen. n numpers\n",
    "\n",
    "d=range(10)\n",
    "print(list(d))\n"
   ]
  },
  {
   "cell_type": "code",
   "execution_count": 15,
   "id": "c702cb1c",
   "metadata": {},
   "outputs": [
    {
     "name": "stdout",
     "output_type": "stream",
     "text": [
      "[0, 1, 2, 3, 4, 5, 6, 7, 8, 9, 10, 11, 12, 13, 14, 15, 16, 17, 18, 19, 20, 21, 22, 23, 24, 25, 26, 27, 28, 29, 30, 31, 32, 33, 34, 35, 36, 37, 38, 39, 40, 41, 42, 43, 44, 45, 46, 47, 48, 49]\n"
     ]
    }
   ],
   "source": [
    "str='hello world'\n",
    "str=range(50)\n",
    "print(list(str))"
   ]
  },
  {
   "cell_type": "code",
   "execution_count": 36,
   "id": "4df0952a",
   "metadata": {},
   "outputs": [
    {
     "ename": "IndentationError",
     "evalue": "unexpected indent (3630105408.py, line 2)",
     "output_type": "error",
     "traceback": [
      "\u001b[1;36m  Cell \u001b[1;32mIn[36], line 2\u001b[1;36m\u001b[0m\n\u001b[1;33m    print('hello world')\u001b[0m\n\u001b[1;37m    ^\u001b[0m\n\u001b[1;31mIndentationError\u001b[0m\u001b[1;31m:\u001b[0m unexpected indent\n"
     ]
    }
   ],
   "source": [
    "#for i in range(0,50):  # we can also write : for_in range(0,50)\n",
    "   print('hello world')"
   ]
  },
  {
   "cell_type": "code",
   "execution_count": 19,
   "id": "c9a7f269",
   "metadata": {},
   "outputs": [
    {
     "name": "stdout",
     "output_type": "stream",
     "text": [
      "[(0, 'a'), (1, 'e'), (2, 'i'), (3, 'o'), (4, 'u')]\n"
     ]
    }
   ],
   "source": [
    "# enumerate():element of iterable along along with there count\n",
    "v=['a','e','i','o','u'] \n",
    "d=enumerate(v) # also for 1 to stat\n",
    "print(list(d))#[(0, 'a'), (1, 'e'), (2, 'i'), (3, 'o'), (4, 'u')]"
   ]
  },
  {
   "cell_type": "code",
   "execution_count": 37,
   "id": "a6af2723",
   "metadata": {},
   "outputs": [
    {
     "name": "stdout",
     "output_type": "stream",
     "text": [
      "a\n",
      "e\n",
      "i\n",
      "o\n",
      "u\n",
      "[0, 1, 2, 3, 4, 5, 6, 7, 8, 9]\n",
      "[0, 1, 2, 3, 4, 5, 6, 7, 8, 9]\n",
      "[2, 3, 4, 5, 6]\n",
      "[1, 3, 5, 7, 9]\n",
      "[(0, 'a'), (1, 'e'), (2, 'i'), (3, 'o'), (4, 'u')]\n",
      "[(1, 'a'), (2, 'e'), (3, 'i'), (4, 'o'), (5, 'u')]\n",
      "a\n",
      "e\n",
      "i\n",
      "o\n",
      "u\n",
      "(0, 'a')\n",
      "(1, 'e')\n",
      "(2, 'i')\n",
      "(3, 'o')\n",
      "(4, 'u')\n",
      "0 a\n",
      "1 e\n",
      "2 i\n",
      "3 o\n",
      "4 u\n",
      "0 u\n",
      "1 o\n",
      "2 i\n",
      "3 e\n",
      "4 a\n"
     ]
    }
   ],
   "source": [
    "# Loops are used to perform repetitive task in Python\n",
    "# Loops are also called iterations\n",
    "# There are two types of loops in Python\n",
    "\n",
    "# 1. for loop\n",
    "# 2. while loop\n",
    "# 3. do...while (This is not possible in python)\n",
    "\n",
    "\n",
    "# For loops in python\n",
    "# for loop is used with iterables (sequence data) in python\n",
    "# Unlike in C/C#/Java condition is not checked in python for loop\n",
    "\n",
    "# for(i=0;i<=10;i++){\n",
    "#     printf(i)\n",
    "# }\n",
    "\n",
    "vowels = [\"a\", \"e\", \"i\", \"o\", \"u\"]\n",
    "for each in vowels:  # traversing in vowels\n",
    "    print(each)\n",
    "\n",
    "# range()\n",
    "# range is a python built-in function to generate n numbers\n",
    "\n",
    "data = range(10)\n",
    "print(list(data))  # 0, 1, 2, 3, 4, 5, 6, 7, 8, 9\n",
    "\n",
    "data = range(0, 10)\n",
    "print(list(data))  # 0, 1, 2, 3, 4, 5, 6, 7, 8, 9\n",
    "\n",
    "data = range(2, 7)\n",
    "print(list(data))  # 2, 3, 4, 5, 6\n",
    "\n",
    "data = range(1, 10, 2)\n",
    "print(list(data))  # 1, 3, 5, 7, 9\n",
    "\n",
    "\n",
    "# WAP to print \"Hello World\" 50 times\n",
    "#for _ in range(51):\n",
    " #   print(\"Hello World\")\n",
    "\n",
    "# enumerate()\n",
    "# enumerate() is a python built-in function to give the elements of iterable along with their count\n",
    "\n",
    "vowels = [\"a\", \"e\", \"i\", \"o\", \"u\"]\n",
    "data = enumerate(vowels)\n",
    "print(list(data))  # [(0, a), (1, e), (2, i), (3, o), (4, u)]\n",
    "\n",
    "data = enumerate(vowels, start=1)\n",
    "print(list(data))  # [(1, a), (2, e), (3, i), (4, o), (5, u)]\n",
    "\n",
    "for i in range(len(vowels)):\n",
    "    print(vowels[i])\n",
    "\n",
    "\n",
    "for each in enumerate(vowels):\n",
    "    print(each)  # (0, a)\n",
    "\n",
    "for index, vowel in enumerate(vowels):  # here \"index, value\" is unpacking tuple from each loop\n",
    "    print(index, vowel)  # 0  1  2  3  4\n",
    "\n",
    "for index, vowel in enumerate(vowels[::-1]):  # reverse / here \"index, value\" is unpacking tuple from each loop\n",
    "    print(index, vowel)  # 0  1  2  3  4"
   ]
  },
  {
   "cell_type": "code",
   "execution_count": 39,
   "id": "788035b9",
   "metadata": {},
   "outputs": [
    {
     "name": "stdout",
     "output_type": "stream",
     "text": [
      "hello\n",
      "hello\n",
      "hello\n",
      "hello\n",
      "hello\n"
     ]
    }
   ],
   "source": [
    " for i in range(5):\n",
    "    print('hello')"
   ]
  },
  {
   "cell_type": "code",
   "execution_count": 41,
   "id": "d3672158",
   "metadata": {},
   "outputs": [
    {
     "name": "stdout",
     "output_type": "stream",
     "text": [
      "hello\n",
      "hello\n"
     ]
    }
   ],
   "source": [
    "for i in range(1,5,2):\n",
    "    print('hello')"
   ]
  },
  {
   "cell_type": "code",
   "execution_count": null,
   "id": "809598aa",
   "metadata": {},
   "outputs": [],
   "source": [
    "s= 0\n",
    "for i in range(5):\n",
    "    x=int(input('enter x=='))\n",
    "    s=s+x"
   ]
  },
  {
   "cell_type": "code",
   "execution_count": 3,
   "id": "91da4b33",
   "metadata": {},
   "outputs": [
    {
     "name": "stdout",
     "output_type": "stream",
     "text": [
      "0 hello\n",
      "1 hello\n",
      "2 hello\n",
      "3 hello\n",
      "4 hello\n"
     ]
    }
   ],
   "source": [
    "# range(n):to provide n range\n",
    "range(5)#01234\n",
    "range(1,5)#1,2,3,4,5\n",
    "range(1,5,2)#1,3\n",
    "# for output\n",
    "for i in range(5):\n",
    "    print(i,'hello')"
   ]
  },
  {
   "cell_type": "code",
   "execution_count": 4,
   "id": "19ffb79f",
   "metadata": {},
   "outputs": [
    {
     "name": "stdout",
     "output_type": "stream",
     "text": [
      "1 hello\n",
      "2 hello\n",
      "3 hello\n",
      "4 hello\n"
     ]
    }
   ],
   "source": [
    "for _ in range(1,5):\n",
    "    print(_,'hello')"
   ]
  },
  {
   "cell_type": "code",
   "execution_count": null,
   "id": "f005879e",
   "metadata": {},
   "outputs": [],
   "source": [
    "for _ in range(1,5,2)\n"
   ]
  }
 ],
 "metadata": {
  "kernelspec": {
   "display_name": "Python 3 (ipykernel)",
   "language": "python",
   "name": "python3"
  },
  "language_info": {
   "codemirror_mode": {
    "name": "ipython",
    "version": 3
   },
   "file_extension": ".py",
   "mimetype": "text/x-python",
   "name": "python",
   "nbconvert_exporter": "python",
   "pygments_lexer": "ipython3",
   "version": "3.9.13"
  }
 },
 "nbformat": 4,
 "nbformat_minor": 5
}
