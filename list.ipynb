{
 "cells": [
  {
   "cell_type": "code",
   "execution_count": 4,
   "id": "468b06a3",
   "metadata": {},
   "outputs": [
    {
     "name": "stdout",
     "output_type": "stream",
     "text": [
      "apple 1 cat dj "
     ]
    }
   ],
   "source": [
    "a=['apple',1,'cat','dj']\n",
    "for item in a:\n",
    "    print(item,end=\" \")"
   ]
  },
  {
   "cell_type": "code",
   "execution_count": 5,
   "id": "a42660bc",
   "metadata": {},
   "outputs": [],
   "source": [
    "# create list\n",
    "# used function\n",
    "# append()\n",
    "# insert()\n",
    "#extend()"
   ]
  },
  {
   "cell_type": "code",
   "execution_count": 12,
   "id": "516bedd3",
   "metadata": {},
   "outputs": [
    {
     "name": "stdout",
     "output_type": "stream",
     "text": [
      "enter int:2\n",
      "enter x=3\n",
      "enter x=1\n",
      "[3, 1]\n"
     ]
    }
   ],
   "source": [
    "l=[]\n",
    "n=int(input('enter int:'))\n",
    "for item in range(n):\n",
    "    x= int(input('enter x='))\n",
    "    l.append(x)\n",
    "print(l)    "
   ]
  },
  {
   "cell_type": "code",
   "execution_count": 18,
   "id": "dd0d8053",
   "metadata": {},
   "outputs": [
    {
     "name": "stdout",
     "output_type": "stream",
     "text": [
      "1\n",
      "3\n",
      "4\n",
      "average= 2.0\n",
      "[1, 3]\n",
      "[3, 1]\n"
     ]
    }
   ],
   "source": [
    "# all are the fun used in \n",
    "print(min(l))\n",
    "print(max(l))\n",
    "print(sum(l))\n",
    "print('average=',sum(l)/n)\n",
    "l.sort()\n",
    "print(l)\n",
    "l.reverse()\n",
    "print(l)"
   ]
  },
  {
   "cell_type": "code",
   "execution_count": 24,
   "id": "e0ea379a",
   "metadata": {},
   "outputs": [
    {
     "name": "stdout",
     "output_type": "stream",
     "text": [
      "enter for the loop2\n",
      "enterr the daata alphabetdj\n",
      "enterr the daata alphabetgc\n",
      "['dj', 'gc'] "
     ]
    }
   ],
   "source": [
    "l=[]\n",
    "n=int(input('enter for the loop'))\n",
    "for i in range(n):\n",
    "    x=input('enterr the daata alphabet')\n",
    "    l.append(x)\n",
    "print(l, end=' ')    "
   ]
  },
  {
   "cell_type": "code",
   "execution_count": 25,
   "id": "e0646358",
   "metadata": {},
   "outputs": [
    {
     "name": "stdout",
     "output_type": "stream",
     "text": [
      "['dj', 'gc']\n"
     ]
    }
   ],
   "source": [
    "l.sort()\n",
    "print(l)\n"
   ]
  },
  {
   "cell_type": "code",
   "execution_count": 28,
   "id": "18ca5ee9",
   "metadata": {},
   "outputs": [
    {
     "name": "stdout",
     "output_type": "stream",
     "text": [
      "['apple', 'apple', 1, 3, 'dj']\n"
     ]
    }
   ],
   "source": [
    "# insert():add element according to specific position\n",
    "a=['apple',1,3,'dj']\n",
    "a.insert(1,'apple')\n",
    "print(a)"
   ]
  },
  {
   "cell_type": "code",
   "execution_count": 27,
   "id": "bfa960df",
   "metadata": {},
   "outputs": [
    {
     "name": "stdout",
     "output_type": "stream",
     "text": [
      "['apple', 'apple', 1, 3, 'dj', 1, 2, 3, 4]\n"
     ]
    }
   ],
   "source": [
    "b=[1,2,3,4]\n",
    "a.extend(b)# for multiple data add at the end\n",
    "print(a)"
   ]
  },
  {
   "cell_type": "code",
   "execution_count": 31,
   "id": "9feb411e",
   "metadata": {},
   "outputs": [
    {
     "data": {
      "text/plain": [
       "['apple', 'apple', 1, 'djg', 'dj']"
      ]
     },
     "execution_count": 31,
     "metadata": {},
     "output_type": "execute_result"
    }
   ],
   "source": [
    "# update(): just \n",
    "a[3]='djg'\n",
    "a"
   ]
  },
  {
   "cell_type": "code",
   "execution_count": 37,
   "id": "51b31cf9",
   "metadata": {},
   "outputs": [
    {
     "data": {
      "text/plain": [
       "[1, ['gc', 'pk'], 3, 4, 5, 'dj']"
      ]
     },
     "execution_count": 37,
     "metadata": {},
     "output_type": "execute_result"
    }
   ],
   "source": [
    "a=[1,2,3,4,5,'dj']\n",
    "a[1]=['gc','pk']\n",
    "a\n",
    "a[1:2]\n",
    "a\n"
   ]
  },
  {
   "cell_type": "code",
   "execution_count": 35,
   "id": "d028db0a",
   "metadata": {},
   "outputs": [
    {
     "data": {
      "text/plain": [
       "[1, ['gc', 'pk'], 3, 4, 5, 'dj']"
      ]
     },
     "execution_count": 35,
     "metadata": {},
     "output_type": "execute_result"
    }
   ],
   "source": [
    "a[1:0]\n",
    "a"
   ]
  },
  {
   "cell_type": "code",
   "execution_count": 39,
   "id": "0c891394",
   "metadata": {},
   "outputs": [
    {
     "data": {
      "text/plain": [
       "[2, 3, 4, 5, 'dj']"
      ]
     },
     "execution_count": 39,
     "metadata": {},
     "output_type": "execute_result"
    }
   ],
   "source": [
    "#delete() delet fpor each especific position data\n",
    "# del remove() pop()\n",
    "a=[1,2,3,4,5,'dj']\n",
    "del a[0:1] # delet the o to position 1 element\n",
    "a"
   ]
  },
  {
   "cell_type": "code",
   "execution_count": 42,
   "id": "365c6df1",
   "metadata": {},
   "outputs": [
    {
     "data": {
      "text/plain": [
       "[3, 4, 5]"
      ]
     },
     "execution_count": 42,
     "metadata": {},
     "output_type": "execute_result"
    }
   ],
   "source": [
    "a.remove('dj')\n",
    "a"
   ]
  },
  {
   "cell_type": "code",
   "execution_count": 46,
   "id": "033c61c1",
   "metadata": {},
   "outputs": [
    {
     "name": "stdout",
     "output_type": "stream",
     "text": [
      "2 [1, 3, 5, 'dj']\n"
     ]
    }
   ],
   "source": [
    "# for delet duplicate all data at atime\n",
    "a=['apple',1,3,5,\"dj\",'apple']\n",
    "c=a.count('apple')\n",
    "print(c,end=' ')\n",
    "for i in range(c):\n",
    "    a.remove('apple')\n",
    "print(a)    "
   ]
  },
  {
   "cell_type": "code",
   "execution_count": 48,
   "id": "0ebff8c4",
   "metadata": {},
   "outputs": [
    {
     "name": "stdout",
     "output_type": "stream",
     "text": [
      "0 1\n",
      "1 3\n",
      "2 5\n",
      "3 dj\n"
     ]
    }
   ],
   "source": [
    "l=len(a)\n",
    "for i in range(l):\n",
    "    print(i,a[i])# for "
   ]
  },
  {
   "cell_type": "code",
   "execution_count": 49,
   "id": "788d9058",
   "metadata": {},
   "outputs": [
    {
     "name": "stdout",
     "output_type": "stream",
     "text": [
      "1\n",
      "5\n",
      "8\n"
     ]
    }
   ],
   "source": [
    "# for print index value of data\n",
    "a=[1,'dj',2,3,4,'dj','6','7','dj']\n",
    "l=len(a)\n",
    "for i in range(l):\n",
    "    if a[i]=='dj':# for print dj in stander position\n",
    "        print(i)\n"
   ]
  },
  {
   "cell_type": "code",
   "execution_count": 52,
   "id": "781395a8",
   "metadata": {},
   "outputs": [
    {
     "data": {
      "text/plain": [
       "[1, 'dj', 2, 3, 4, 'dj', '6', '7']"
      ]
     },
     "execution_count": 52,
     "metadata": {},
     "output_type": "execute_result"
    }
   ],
   "source": [
    "# pop()\n",
    "a=[1,'dj',2,3,4,'dj','6','7','dj']\n",
    "a.pop()\n",
    "a"
   ]
  },
  {
   "cell_type": "code",
   "execution_count": 54,
   "id": "d4fd35fe",
   "metadata": {},
   "outputs": [
    {
     "data": {
      "text/plain": [
       "[1, 'dj', 4, 'dj', '6', '7']"
      ]
     },
     "execution_count": 54,
     "metadata": {},
     "output_type": "execute_result"
    }
   ],
   "source": [
    "a.pop(2) # for pop the index 2 element only take the  position of list element it cannnt take ster like :a.pop(str) i.e not liggle\n",
    "a"
   ]
  },
  {
   "cell_type": "code",
   "execution_count": 1,
   "id": "cf8aa1e4",
   "metadata": {},
   "outputs": [
    {
     "name": "stdout",
     "output_type": "stream",
     "text": [
      "hello dj\n"
     ]
    }
   ],
   "source": [
    "print('hello dj')"
   ]
  },
  {
   "cell_type": "markdown",
   "id": "0056f35c",
   "metadata": {},
   "source": [
    "# nated list: for multiple value for multiple list\n"
   ]
  },
  {
   "cell_type": "code",
   "execution_count": 3,
   "id": "d0c494d0",
   "metadata": {},
   "outputs": [
    {
     "name": "stdout",
     "output_type": "stream",
     "text": [
      "<class 'list'> [[1, 2], [3, 4], ['dj', 'hi']]\n"
     ]
    }
   ],
   "source": [
    "a=[[1,2],[3,4],['dj','hi']]\n",
    "print(type(a),a)"
   ]
  },
  {
   "cell_type": "code",
   "execution_count": 9,
   "id": "dca7ee0c",
   "metadata": {},
   "outputs": [
    {
     "name": "stdout",
     "output_type": "stream",
     "text": [
      "<class 'list'> [['name', 'age', 'add'], ['dj', 24, 'pyuthan'], ['pk', 23, 'npj']]\n",
      "3\n",
      "['name', 'age', 'add']\n",
      "add\n"
     ]
    }
   ],
   "source": [
    "a=[['name','age','add'],\n",
    "  ['dj',24,'pyuthan'],\n",
    "  ['pk',23,'npj']]\n",
    "print(type(a),a)# o/p: <class 'list'> [['name', 'age', 'add'], ['dj', 24, 'pyuthan'], ['pk', 23, 'npj']]\n",
    "\n",
    "# for length of function\n",
    "print(len(a))#3\n",
    "print(a[0])#['name', 'age', 'add'] i.e indexing\n",
    "print(a[0][2])# for acces the list inside item  i.e add only you need\n",
    "    "
   ]
  },
  {
   "cell_type": "code",
   "execution_count": 5,
   "id": "5f37ad43",
   "metadata": {},
   "outputs": [
    {
     "name": "stdout",
     "output_type": "stream",
     "text": [
      "enter n=2\n",
      "enter name;pk\n",
      "enter age;25\n",
      "enter address;\n",
      "enter name;dk\n",
      "enter age;23\n",
      "enter address;npj\n",
      "[['pk', 25, ''], ['dk', 23, 'npj']]\n"
     ]
    }
   ],
   "source": [
    "# wap to create the user data set to list \n",
    "\n",
    "l=[]\n",
    "n=int(input('enter n='))\n",
    "for i in range(n):\n",
    "    name=input('enter name;')\n",
    "    age=int(input('enter age;'))\n",
    "    add=input('enter address;')\n",
    "    data=[name,age,add]\n",
    "    l.append(data)\n",
    "print(l)    "
   ]
  },
  {
   "cell_type": "code",
   "execution_count": 3,
   "id": "30292ca8",
   "metadata": {},
   "outputs": [
    {
     "name": "stdout",
     "output_type": "stream",
     "text": [
      "enter=2\n"
     ]
    }
   ],
   "source": [
    "'''\n",
    "\n",
    "serch\n",
    "'''\n",
    "a=[['name','age','add'],\n",
    "  ['dj',24,'pyuthan'],\n",
    "  ['pk',23,'npj']]\n",
    "name=input('enter=')\n",
    "for i in a:\n",
    "    if name in i:\n",
    "\n",
    "               \n",
    "        print(i)\n"
   ]
  },
  {
   "cell_type": "code",
   "execution_count": 9,
   "id": "6e30b7e9",
   "metadata": {},
   "outputs": [
    {
     "name": "stdout",
     "output_type": "stream",
     "text": [
      "enterDJ\n",
      "['dj', 24, 'pyuthan']\n"
     ]
    }
   ],
   "source": [
    "'''\n",
    "\n",
    "serch WITH CASE SENSETIVE \n",
    "'''\n",
    "a=[['name','age','add'],\n",
    "  ['dj',24,'pyuthan'],\n",
    "  ['pk',23,'npj']\n",
    "  ]\n",
    "name=input('enter')\n",
    "for i in a:\n",
    "    if name.lower() in i[0].lower(): # not a good way # print similer name also\n",
    "    \n",
    "        print(i)\n"
   ]
  },
  {
   "cell_type": "code",
   "execution_count": 28,
   "id": "89b28ea0",
   "metadata": {},
   "outputs": [
    {
     "name": "stdout",
     "output_type": "stream",
     "text": [
      "enter:DJ\n",
      "['dj', 24, 'pyuthan']\n"
     ]
    }
   ],
   "source": [
    "# next method for exact input to response \n",
    "'''\n",
    "\n",
    "serch\n",
    "'''\n",
    "a=[['name','age','add'],\n",
    "  ['dj',24,'pyuthan'],\n",
    "  ['pk',23,'npj']\n",
    "  ]\n",
    "name=input('enter:')\n",
    "for i in a:\n",
    "        if name.lower()==i[0].lower():\n",
    "            print(i)\n"
   ]
  },
  {
   "cell_type": "code",
   "execution_count": 25,
   "id": "2f365c53",
   "metadata": {},
   "outputs": [
    {
     "name": "stdout",
     "output_type": "stream",
     "text": [
      "0\n",
      "2\n",
      "4\n"
     ]
    }
   ],
   "source": [
    "# print the index of element\n",
    "a=['dj','pk','dj','sp','dj']\n",
    "l=len(a)\n",
    "for i in range(l):\n",
    "    if 'dj' ==a[i]:# condition for index to data \n",
    "        print(i)\n",
    "   #print(a[i])"
   ]
  },
  {
   "cell_type": "code",
   "execution_count": 29,
   "id": "ac0902f2",
   "metadata": {},
   "outputs": [],
   "source": [
    "# list and distonary"
   ]
  },
  {
   "cell_type": "code",
   "execution_count": 38,
   "id": "49be24d2",
   "metadata": {},
   "outputs": [
    {
     "name": "stdout",
     "output_type": "stream",
     "text": [
      "enter nameDJ\n",
      "1\n",
      "3\n"
     ]
    }
   ],
   "source": [
    "'''\n",
    "\n",
    "index data TO SEARCH\n",
    "'''\n",
    "a=[['name','age','add'],\n",
    "  ['dj',24,'pyuthan'],\n",
    "  ['pk',23,'npj'],\n",
    "   ['dj',24,'pk']\n",
    "  ]\n",
    "l=len(a)\n",
    "name=input('enter name')\n",
    "for i in range(l):\n",
    "   # if name ==a[i][0]:\n",
    "    # for case sensetive\n",
    "    if name.lower()==a[i][0].lower():# WITH LOWER AND UPPER CASE \n",
    "        \n",
    "        print(i)\n"
   ]
  },
  {
   "cell_type": "markdown",
   "id": "9a6b2412",
   "metadata": {},
   "source": [
    "# qs:\n",
    "# wap to crate matrix with input row and colmn and also data of row and column\n",
    "a=int(input(\"enter the row=\"))\n",
    "b=int(int('column='))\n",
    "list_data=[]\n"
   ]
  },
  {
   "cell_type": "code",
   "execution_count": 1,
   "id": "9c60e113",
   "metadata": {},
   "outputs": [
    {
     "name": "stdout",
     "output_type": "stream",
     "text": [
      "enter the matrix4\n",
      "[[0, 1, 2, 3], [4, 5, 6, 7], [8, 9, 10, 11], [12, 13, 14, 15]]\n"
     ]
    }
   ],
   "source": [
    "N = int(input('enter the matrix'))\n",
    "matrix = [[0 for j in range(N)] for i in range(N)]\n",
    "for i in range(N):\n",
    "    for j in range(N):\n",
    "        matrix[i][j] = i*N + j\n",
    "print(matrix)"
   ]
  },
  {
   "cell_type": "code",
   "execution_count": 2,
   "id": "7786416d",
   "metadata": {},
   "outputs": [
    {
     "name": "stdout",
     "output_type": "stream",
     "text": [
      "input size of matrix size:2\n",
      "[0, 1]\n",
      "[2, 3]\n"
     ]
    }
   ],
   "source": [
    "\n",
    "\n",
    "# Initialize an empty matrix\n",
    "matrix = []\n",
    "N= int(input('input size of matrix size:'))\n",
    "# Loop to range of the matrix\n",
    "for i in range(N):\n",
    "    row = []  # Initialize an empty row\n",
    "    for j in range(N):\n",
    "        # Calculate the value to be inserted in the matrix\n",
    "        value = i * N + j\n",
    "        row.append(value)  # Append the value to the row\n",
    "    matrix.append(row)  # Append the row to the matrix\n",
    "\n",
    "# Print the matrix\n",
    "for row in matrix:\n",
    "    print(row)\n",
    "\n",
    "    "
   ]
  },
  {
   "cell_type": "code",
   "execution_count": 4,
   "id": "024c364b",
   "metadata": {},
   "outputs": [
    {
     "name": "stdout",
     "output_type": "stream",
     "text": [
      "Enter the size of the matrix: 3\n",
      "[0, 1, 2]\n",
      "[3, 4, 5]\n",
      "[6, 7, 8]\n"
     ]
    }
   ],
   "source": [
    "N = int(input('Enter the size of the matrix: '))\n",
    "\n",
    "# Initialize an empty matrix\n",
    "matrix = []\n",
    "\n",
    "# for matric size the matrix using loops\n",
    "for i in range(N):\n",
    "    row = []  # Initialize an empty row\n",
    "    for j in range(N):\n",
    "        value = i * N + j  # Calculate the value to be inserted in the matrix\n",
    "        row.append(value)  # Append the value to the row\n",
    "    matrix.append(row)  # Append the row to the matrix\n",
    "\n",
    "# Print the matrix\n",
    "for row in matrix:\n",
    "    print(row)\n"
   ]
  },
  {
   "cell_type": "code",
   "execution_count": 5,
   "id": "09bc2806",
   "metadata": {},
   "outputs": [
    {
     "name": "stdout",
     "output_type": "stream",
     "text": [
      "Enter the number of keys: 2\n",
      "Enter key: dj\n",
      "Enter values separated by comma: sds\n",
      "Enter key: pk\n",
      "Enter values separated by comma: dss\n",
      "Dictionary: {'dj': ['sds'], 'pk': ['dss']}\n"
     ]
    }
   ],
   "source": [
    "# Initialize an empty dictionary\n",
    "data = {}\n",
    "\n",
    "# Get input from the user\n",
    "key_count = int(input(\"Enter the number of keys: \"))\n",
    "\n",
    "# Input keys and corresponding values\n",
    "for _ in range(key_count):\n",
    "    key = input(\"Enter key: \")\n",
    "    values = input(\"Enter values separated by comma: \").split(',')\n",
    "    data[key] = values\n",
    "\n",
    "# Display the dictionary\n",
    "print(\"Dictionary:\", data)\n"
   ]
  },
  {
   "cell_type": "code",
   "execution_count": null,
   "id": "825b2de2",
   "metadata": {},
   "outputs": [],
   "source": []
  }
 ],
 "metadata": {
  "kernelspec": {
   "display_name": "Python 3 (ipykernel)",
   "language": "python",
   "name": "python3"
  },
  "language_info": {
   "codemirror_mode": {
    "name": "ipython",
    "version": 3
   },
   "file_extension": ".py",
   "mimetype": "text/x-python",
   "name": "python",
   "nbconvert_exporter": "python",
   "pygments_lexer": "ipython3",
   "version": "3.9.13"
  }
 },
 "nbformat": 4,
 "nbformat_minor": 5
}
