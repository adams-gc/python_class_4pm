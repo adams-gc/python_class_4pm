{
 "cells": [
  {
   "cell_type": "markdown",
   "id": "23d4bcd0",
   "metadata": {},
   "source": [
    "# set:\n",
    "- no indexing\n",
    "- multiple but no duplicate value\n",
    "- unorderd\n",
    "- mutable\n",
    "- only collection of unique data no duplicate data"
   ]
  },
  {
   "cell_type": "code",
   "execution_count": 2,
   "id": "19bbe7df",
   "metadata": {},
   "outputs": [
    {
     "name": "stdout",
     "output_type": "stream",
     "text": [
      "<class 'set'>\n"
     ]
    }
   ],
   "source": [
    "s=set()\n",
    "print(type(s))"
   ]
  },
  {
   "cell_type": "code",
   "execution_count": 5,
   "id": "36c22ecd",
   "metadata": {},
   "outputs": [
    {
     "data": {
      "text/plain": [
       "{1, 2, 3, 4}"
      ]
     },
     "execution_count": 5,
     "metadata": {},
     "output_type": "execute_result"
    }
   ],
   "source": [
    "s={1,2,3,4,4}\n",
    "#print(s[0])# indexing not support\n",
    "s"
   ]
  },
  {
   "cell_type": "code",
   "execution_count": 7,
   "id": "dc451657",
   "metadata": {},
   "outputs": [
    {
     "data": {
      "text/plain": [
       "{'cat', 'dj', 'nepal', 'pk', 'pyuthan', 'sp'}"
      ]
     },
     "execution_count": 7,
     "metadata": {},
     "output_type": "execute_result"
    }
   ],
   "source": [
    "# unorderd data\n",
    "a={'dj','pk','sp','cat','nepal','pyuthan'}\n",
    "a"
   ]
  },
  {
   "cell_type": "code",
   "execution_count": 8,
   "id": "71eed043",
   "metadata": {},
   "outputs": [
    {
     "name": "stdout",
     "output_type": "stream",
     "text": [
      "{'apple', 'dj'}\n"
     ]
    }
   ],
   "source": [
    "# mutable\n",
    "s=set()\n",
    "s.add('apple')\n",
    "s.add('dj')\n",
    "print(s)"
   ]
  },
  {
   "cell_type": "markdown",
   "id": "24be446a",
   "metadata": {},
   "source": [
    "if \n",
    "s={1}\n",
    "s is set \n",
    "but\n",
    "s={}\n",
    "i.e dictiory\n"
   ]
  },
  {
   "cell_type": "code",
   "execution_count": 9,
   "id": "2bf957ee",
   "metadata": {},
   "outputs": [
    {
     "name": "stdout",
     "output_type": "stream",
     "text": [
      "{'apple'}\n"
     ]
    }
   ],
   "source": [
    "s.remove('dj')\n",
    "print(s)"
   ]
  },
  {
   "cell_type": "markdown",
   "id": "52ca67e1",
   "metadata": {},
   "source": [
    "# do not ligle to do arthmatic operation like +-*/\n",
    "\n"
   ]
  },
  {
   "cell_type": "code",
   "execution_count": 12,
   "id": "f43dd8cc",
   "metadata": {},
   "outputs": [
    {
     "name": "stdout",
     "output_type": "stream",
     "text": [
      "{'ram', 'hari', 'dj', 'shyam', 'pk'}\n"
     ]
    }
   ],
   "source": [
    "a={'ram','shyam','hari','pk'}\n",
    "b={'dj','pk','ram'}\n",
    "# union(datatype   ):fun to create \n",
    "print(a.union(b))"
   ]
  },
  {
   "cell_type": "code",
   "execution_count": 17,
   "id": "eb54f5db",
   "metadata": {},
   "outputs": [
    {
     "name": "stdout",
     "output_type": "stream",
     "text": [
      "{'ram', 'pk'}\n",
      "{'shyam', 'hari'}\n"
     ]
    }
   ],
   "source": [
    "# intersection()\n",
    "print(a.intersection(b))\n",
    "\n",
    "# diffrence \n",
    "c= a-b\n",
    "c\n",
    "print(a.difference(b))"
   ]
  },
  {
   "cell_type": "code",
   "execution_count": 18,
   "id": "0ad8af18",
   "metadata": {},
   "outputs": [
    {
     "name": "stdout",
     "output_type": "stream",
     "text": [
      "{'dj'}\n"
     ]
    }
   ],
   "source": [
    "print(b.difference(a))"
   ]
  },
  {
   "cell_type": "code",
   "execution_count": 19,
   "id": "7db97527",
   "metadata": {},
   "outputs": [],
   "source": [
    "# join set\n",
    "# disjoin set\n"
   ]
  },
  {
   "cell_type": "code",
   "execution_count": 20,
   "id": "2030e999",
   "metadata": {},
   "outputs": [],
   "source": [
    "# sub set: \n",
    "a={1,2,3,4}\n",
    "b={2,3}"
   ]
  },
  {
   "cell_type": "code",
   "execution_count": 21,
   "id": "0303e3bb",
   "metadata": {},
   "outputs": [
    {
     "name": "stdout",
     "output_type": "stream",
     "text": [
      "True\n"
     ]
    }
   ],
   "source": [
    "# subset\n",
    "print(b.issubset(a))"
   ]
  },
  {
   "cell_type": "code",
   "execution_count": 23,
   "id": "b8dd3771",
   "metadata": {},
   "outputs": [
    {
     "name": "stdout",
     "output_type": "stream",
     "text": [
      "True\n"
     ]
    }
   ],
   "source": [
    "# superset\n",
    "print(a.issuperset(b))"
   ]
  },
  {
   "cell_type": "code",
   "execution_count": null,
   "id": "261c036a",
   "metadata": {},
   "outputs": [],
   "source": []
  }
 ],
 "metadata": {
  "kernelspec": {
   "display_name": "Python 3 (ipykernel)",
   "language": "python",
   "name": "python3"
  },
  "language_info": {
   "codemirror_mode": {
    "name": "ipython",
    "version": 3
   },
   "file_extension": ".py",
   "mimetype": "text/x-python",
   "name": "python",
   "nbconvert_exporter": "python",
   "pygments_lexer": "ipython3",
   "version": "3.9.13"
  }
 },
 "nbformat": 4,
 "nbformat_minor": 5
}
