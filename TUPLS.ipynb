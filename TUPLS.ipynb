{
 "cells": [
  {
   "cell_type": "markdown",
   "id": "0cbf3ca1",
   "metadata": {},
   "source": [
    "# TUPLES ARE IMMUTABLE DATA DYPE FOLLOW THE RULE OF INDEXING AND SLICING\n",
    "- I.E ORREDER DATA \n",
    "- IMMUTABLE DATA \n",
    "- ORIGINAL AND DUPLICATE3 DATA\n",
    "- REP: T=()"
   ]
  },
  {
   "cell_type": "code",
   "execution_count": 1,
   "id": "d2212a43",
   "metadata": {},
   "outputs": [
    {
     "name": "stdout",
     "output_type": "stream",
     "text": [
      "<class 'tuple'>\n"
     ]
    }
   ],
   "source": [
    "T=(1,2,3,4,5,6)\n",
    "print(type(T))"
   ]
  },
  {
   "cell_type": "code",
   "execution_count": 6,
   "id": "411534c0",
   "metadata": {},
   "outputs": [
    {
     "name": "stdout",
     "output_type": "stream",
     "text": [
      "1\n",
      "(1, 2, 3, 4)\n"
     ]
    }
   ],
   "source": [
    "# indexing\n",
    "print(T[0])\n",
    "# slicing\n",
    "print(T[0:4])"
   ]
  },
  {
   "cell_type": "code",
   "execution_count": 14,
   "id": "ff784799",
   "metadata": {},
   "outputs": [
    {
     "data": {
      "text/plain": [
       "tuple"
      ]
     },
     "execution_count": 14,
     "metadata": {},
     "output_type": "execute_result"
    }
   ],
   "source": [
    "a=(1,)\n",
    "type(a)"
   ]
  },
  {
   "cell_type": "markdown",
   "id": "f2b78eb9",
   "metadata": {},
   "source": [
    "1. no append(), insert(),extend()\n",
    "2. no update\n",
    "3. no del pop() remove()\n",
    "4. no sort()"
   ]
  },
  {
   "cell_type": "markdown",
   "id": "240ea794",
   "metadata": {},
   "source": [
    "array = list and tuple to work togather( to defined)"
   ]
  },
  {
   "cell_type": "markdown",
   "id": "da91a7d6",
   "metadata": {},
   "source": [
    "# why used tuple : i.e light data type so we \n",
    "# dynamic data = list\n",
    "# light data =tuple"
   ]
  },
  {
   "cell_type": "code",
   "execution_count": 9,
   "id": "bbb43995",
   "metadata": {},
   "outputs": [
    {
     "name": "stdout",
     "output_type": "stream",
     "text": [
      "enter x=2\n",
      "enter x=2\n",
      "enter x=2\n",
      "enter x=2\n",
      "enter x=2\n",
      "(2, 2, 2, 2, 2)\n"
     ]
    }
   ],
   "source": [
    "t=tuple()\n",
    "for i in range(5):\n",
    "    x= int(input('enter x='))\n",
    "    # concanicate\n",
    "    t= t+(x,)# we can perform the addition of string ..with (data type ,) to especify\n",
    "print(t)    "
   ]
  },
  {
   "cell_type": "markdown",
   "id": "e392004e",
   "metadata": {},
   "source": [
    "# we can convert tuple in to list( i.e a=(1,2,3) to change into c= list(a)"
   ]
  },
  {
   "cell_type": "code",
   "execution_count": 18,
   "id": "78cf8064",
   "metadata": {},
   "outputs": [
    {
     "name": "stdout",
     "output_type": "stream",
     "text": [
      "(1, 2, 3, 4, 4) \n",
      " [1, 2, 3, 4, 4]\n",
      "4 \n",
      " 1 \n",
      " (1, 2, 3, 4) \n",
      " 4\n"
     ]
    }
   ],
   "source": [
    "a=(1,2,3,4,4)\n",
    "b=list(a)\n",
    "print(a,\"\\n\",b)\n",
    "print(max(a),'\\n' ,min(a),'\\n',a[0:4],'\\n',b[3])\n"
   ]
  },
  {
   "cell_type": "code",
   "execution_count": null,
   "id": "4d8e8834",
   "metadata": {},
   "outputs": [],
   "source": []
  }
 ],
 "metadata": {
  "kernelspec": {
   "display_name": "Python 3 (ipykernel)",
   "language": "python",
   "name": "python3"
  },
  "language_info": {
   "codemirror_mode": {
    "name": "ipython",
    "version": 3
   },
   "file_extension": ".py",
   "mimetype": "text/x-python",
   "name": "python",
   "nbconvert_exporter": "python",
   "pygments_lexer": "ipython3",
   "version": "3.9.13"
  }
 },
 "nbformat": 4,
 "nbformat_minor": 5
}
