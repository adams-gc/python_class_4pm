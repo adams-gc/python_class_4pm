{
 "cells": [
  {
   "cell_type": "code",
   "execution_count": 1,
   "id": "37a9b5df",
   "metadata": {},
   "outputs": [
    {
     "name": "stdout",
     "output_type": "stream",
     "text": [
      "2\n"
     ]
    }
   ],
   "source": [
    "print(1+1)"
   ]
  },
  {
   "cell_type": "code",
   "execution_count": 9,
   "id": "a516d495",
   "metadata": {},
   "outputs": [
    {
     "name": "stdout",
     "output_type": "stream",
     "text": [
      "enter the number\n",
      "None3\n",
      "enter the second number\n",
      "None2\n",
      "a is greater then b\n"
     ]
    }
   ],
   "source": [
    "a=int(input(print(\"enter the number\")))\n",
    "b=int(input(print(\"enter the second number\")))\n",
    "if a>b:\n",
    "    print(\"a is greater then b\")\n",
    "       #  print('a is equal to b')\n",
    "elif a<b :\n",
    "    print('print b is greater')\n",
    "else:\n",
    "    print('a and b are equeal')"
   ]
  },
  {
   "cell_type": "code",
   "execution_count": 10,
   "id": "5768ed04",
   "metadata": {},
   "outputs": [
    {
     "name": "stdout",
     "output_type": "stream",
     "text": [
      "5\n"
     ]
    }
   ],
   "source": [
    "print(a+b)"
   ]
  },
  {
   "cell_type": "code",
   "execution_count": null,
   "id": "cf76c5b8",
   "metadata": {},
   "outputs": [],
   "source": []
  }
 ],
 "metadata": {
  "kernelspec": {
   "display_name": "Python 3 (ipykernel)",
   "language": "python",
   "name": "python3"
  },
  "language_info": {
   "codemirror_mode": {
    "name": "ipython",
    "version": 3
   },
   "file_extension": ".py",
   "mimetype": "text/x-python",
   "name": "python",
   "nbconvert_exporter": "python",
   "pygments_lexer": "ipython3",
   "version": "3.9.13"
  }
 },
 "nbformat": 4,
 "nbformat_minor": 5
}
